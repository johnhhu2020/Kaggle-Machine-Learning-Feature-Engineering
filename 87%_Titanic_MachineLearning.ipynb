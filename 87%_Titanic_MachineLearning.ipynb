{
 "cells": [
  {
   "cell_type": "code",
   "execution_count": 1,
   "id": "martial-mills",
   "metadata": {},
   "outputs": [],
   "source": [
    "###reference:\n",
    "    ###https://towardsdatascience.com/machine-learning-with-the-titanic-dataset-7f6909e58280\n",
    "\n",
    "\n",
    "def concat_df(train_data,test_data):\n",
    "    return pd.concat([train_data,test_data],sort=True).reset_index(drop=True)\n",
    "\n",
    "def divide_df(all_data):\n",
    "    return all_data.loc[:890],all_data.loc[891:].drop(['Survived'],axis=1)"
   ]
  },
  {
   "cell_type": "code",
   "execution_count": 2,
   "id": "thirty-third",
   "metadata": {},
   "outputs": [],
   "source": [
    "import pandas as pd\n",
    "\n",
    "train_data=pd.read_csv(\"train.csv\")\n",
    "test_data=pd.read_csv(\"test.csv\")\n",
    "\n",
    "###JHU not necessary code???\n",
    "#df_all=concat_df(train_data,test_data)\n",
    "\n",
    "###JHU not necessary code???\n",
    "#dfs=[train_data,test_data]"
   ]
  },
  {
   "cell_type": "code",
   "execution_count": 3,
   "id": "respective-training",
   "metadata": {},
   "outputs": [
    {
     "name": "stdout",
     "output_type": "stream",
     "text": [
      "train_data_contains: 891 row and 12 columns\n",
      "test_data_contains: 418 row and 11 columns\n"
     ]
    }
   ],
   "source": [
    "print(\"train_data_contains: \"+str(len(train_data))+\" row and \"+str(len(train_data.columns))+\" columns\")\n",
    "print(\"test_data_contains: \"+str(len(test_data))+\" row and \"+str(len(test_data.columns))+\" columns\")"
   ]
  },
  {
   "cell_type": "code",
   "execution_count": 4,
   "id": "crude-judge",
   "metadata": {},
   "outputs": [
    {
     "name": "stdout",
     "output_type": "stream",
     "text": [
      "train_data.shape\n"
     ]
    },
    {
     "data": {
      "text/plain": [
       "(891, 12)"
      ]
     },
     "metadata": {},
     "output_type": "display_data"
    },
    {
     "name": "stdout",
     "output_type": "stream",
     "text": [
      "test_data.shape\n"
     ]
    },
    {
     "data": {
      "text/plain": [
       "(418, 11)"
      ]
     },
     "metadata": {},
     "output_type": "display_data"
    }
   ],
   "source": [
    "###JHU use simple code to do the same thing to avoid potential errors\n",
    "###JHU and focus on your analysical logical, to do an exploratory aalysis\n",
    "###JHU not just to follow they footsetps. logical\n",
    "\n",
    "print(\"train_data.shape\")\n",
    "display(train_data.shape)\n",
    "\n",
    "print(\"test_data.shape\")\n",
    "display(test_data.shape)"
   ]
  },
  {
   "cell_type": "code",
   "execution_count": 5,
   "id": "mature-scientist",
   "metadata": {},
   "outputs": [
    {
     "name": "stdout",
     "output_type": "stream",
     "text": [
      "first_3_row_of_train_data\n"
     ]
    },
    {
     "data": {
      "text/html": [
       "<div>\n",
       "<style scoped>\n",
       "    .dataframe tbody tr th:only-of-type {\n",
       "        vertical-align: middle;\n",
       "    }\n",
       "\n",
       "    .dataframe tbody tr th {\n",
       "        vertical-align: top;\n",
       "    }\n",
       "\n",
       "    .dataframe thead th {\n",
       "        text-align: right;\n",
       "    }\n",
       "</style>\n",
       "<table border=\"1\" class=\"dataframe\">\n",
       "  <thead>\n",
       "    <tr style=\"text-align: right;\">\n",
       "      <th></th>\n",
       "      <th>PassengerId</th>\n",
       "      <th>Survived</th>\n",
       "      <th>Pclass</th>\n",
       "      <th>Name</th>\n",
       "      <th>Sex</th>\n",
       "      <th>Age</th>\n",
       "      <th>SibSp</th>\n",
       "      <th>Parch</th>\n",
       "      <th>Ticket</th>\n",
       "      <th>Fare</th>\n",
       "      <th>Cabin</th>\n",
       "      <th>Embarked</th>\n",
       "    </tr>\n",
       "  </thead>\n",
       "  <tbody>\n",
       "    <tr>\n",
       "      <th>0</th>\n",
       "      <td>1</td>\n",
       "      <td>0</td>\n",
       "      <td>3</td>\n",
       "      <td>Braund, Mr. Owen Harris</td>\n",
       "      <td>male</td>\n",
       "      <td>22.0</td>\n",
       "      <td>1</td>\n",
       "      <td>0</td>\n",
       "      <td>A/5 21171</td>\n",
       "      <td>7.2500</td>\n",
       "      <td>NaN</td>\n",
       "      <td>S</td>\n",
       "    </tr>\n",
       "    <tr>\n",
       "      <th>1</th>\n",
       "      <td>2</td>\n",
       "      <td>1</td>\n",
       "      <td>1</td>\n",
       "      <td>Cumings, Mrs. John Bradley (Florence Briggs Th...</td>\n",
       "      <td>female</td>\n",
       "      <td>38.0</td>\n",
       "      <td>1</td>\n",
       "      <td>0</td>\n",
       "      <td>PC 17599</td>\n",
       "      <td>71.2833</td>\n",
       "      <td>C85</td>\n",
       "      <td>C</td>\n",
       "    </tr>\n",
       "    <tr>\n",
       "      <th>2</th>\n",
       "      <td>3</td>\n",
       "      <td>1</td>\n",
       "      <td>3</td>\n",
       "      <td>Heikkinen, Miss. Laina</td>\n",
       "      <td>female</td>\n",
       "      <td>26.0</td>\n",
       "      <td>0</td>\n",
       "      <td>0</td>\n",
       "      <td>STON/O2. 3101282</td>\n",
       "      <td>7.9250</td>\n",
       "      <td>NaN</td>\n",
       "      <td>S</td>\n",
       "    </tr>\n",
       "  </tbody>\n",
       "</table>\n",
       "</div>"
      ],
      "text/plain": [
       "   PassengerId  Survived  Pclass  \\\n",
       "0            1         0       3   \n",
       "1            2         1       1   \n",
       "2            3         1       3   \n",
       "\n",
       "                                                Name     Sex   Age  SibSp  \\\n",
       "0                            Braund, Mr. Owen Harris    male  22.0      1   \n",
       "1  Cumings, Mrs. John Bradley (Florence Briggs Th...  female  38.0      1   \n",
       "2                             Heikkinen, Miss. Laina  female  26.0      0   \n",
       "\n",
       "   Parch            Ticket     Fare Cabin Embarked  \n",
       "0      0         A/5 21171   7.2500   NaN        S  \n",
       "1      0          PC 17599  71.2833   C85        C  \n",
       "2      0  STON/O2. 3101282   7.9250   NaN        S  "
      ]
     },
     "metadata": {},
     "output_type": "display_data"
    },
    {
     "name": "stdout",
     "output_type": "stream",
     "text": [
      "first_3_row_of_test_data\n"
     ]
    },
    {
     "data": {
      "text/html": [
       "<div>\n",
       "<style scoped>\n",
       "    .dataframe tbody tr th:only-of-type {\n",
       "        vertical-align: middle;\n",
       "    }\n",
       "\n",
       "    .dataframe tbody tr th {\n",
       "        vertical-align: top;\n",
       "    }\n",
       "\n",
       "    .dataframe thead th {\n",
       "        text-align: right;\n",
       "    }\n",
       "</style>\n",
       "<table border=\"1\" class=\"dataframe\">\n",
       "  <thead>\n",
       "    <tr style=\"text-align: right;\">\n",
       "      <th></th>\n",
       "      <th>PassengerId</th>\n",
       "      <th>Pclass</th>\n",
       "      <th>Name</th>\n",
       "      <th>Sex</th>\n",
       "      <th>Age</th>\n",
       "      <th>SibSp</th>\n",
       "      <th>Parch</th>\n",
       "      <th>Ticket</th>\n",
       "      <th>Fare</th>\n",
       "      <th>Cabin</th>\n",
       "      <th>Embarked</th>\n",
       "    </tr>\n",
       "  </thead>\n",
       "  <tbody>\n",
       "    <tr>\n",
       "      <th>0</th>\n",
       "      <td>892</td>\n",
       "      <td>3</td>\n",
       "      <td>Kelly, Mr. James</td>\n",
       "      <td>male</td>\n",
       "      <td>34.5</td>\n",
       "      <td>0</td>\n",
       "      <td>0</td>\n",
       "      <td>330911</td>\n",
       "      <td>7.8292</td>\n",
       "      <td>NaN</td>\n",
       "      <td>Q</td>\n",
       "    </tr>\n",
       "    <tr>\n",
       "      <th>1</th>\n",
       "      <td>893</td>\n",
       "      <td>3</td>\n",
       "      <td>Wilkes, Mrs. James (Ellen Needs)</td>\n",
       "      <td>female</td>\n",
       "      <td>47.0</td>\n",
       "      <td>1</td>\n",
       "      <td>0</td>\n",
       "      <td>363272</td>\n",
       "      <td>7.0000</td>\n",
       "      <td>NaN</td>\n",
       "      <td>S</td>\n",
       "    </tr>\n",
       "    <tr>\n",
       "      <th>2</th>\n",
       "      <td>894</td>\n",
       "      <td>2</td>\n",
       "      <td>Myles, Mr. Thomas Francis</td>\n",
       "      <td>male</td>\n",
       "      <td>62.0</td>\n",
       "      <td>0</td>\n",
       "      <td>0</td>\n",
       "      <td>240276</td>\n",
       "      <td>9.6875</td>\n",
       "      <td>NaN</td>\n",
       "      <td>Q</td>\n",
       "    </tr>\n",
       "  </tbody>\n",
       "</table>\n",
       "</div>"
      ],
      "text/plain": [
       "   PassengerId  Pclass                              Name     Sex   Age  SibSp  \\\n",
       "0          892       3                  Kelly, Mr. James    male  34.5      0   \n",
       "1          893       3  Wilkes, Mrs. James (Ellen Needs)  female  47.0      1   \n",
       "2          894       2         Myles, Mr. Thomas Francis    male  62.0      0   \n",
       "\n",
       "   Parch  Ticket    Fare Cabin Embarked  \n",
       "0      0  330911  7.8292   NaN        Q  \n",
       "1      0  363272  7.0000   NaN        S  \n",
       "2      0  240276  9.6875   NaN        Q  "
      ]
     },
     "metadata": {},
     "output_type": "display_data"
    }
   ],
   "source": [
    "print(\"first_3_row_of_train_data\")\n",
    "display(train_data.head(3))\n",
    "print(\"first_3_row_of_test_data\")\n",
    "display(test_data.head(3))"
   ]
  },
  {
   "cell_type": "code",
   "execution_count": 6,
   "id": "built-making",
   "metadata": {},
   "outputs": [
    {
     "name": "stdout",
     "output_type": "stream",
     "text": [
      "missing_values_in_train_data\n"
     ]
    },
    {
     "data": {
      "text/plain": [
       "PassengerId      0\n",
       "Survived         0\n",
       "Pclass           0\n",
       "Name             0\n",
       "Sex              0\n",
       "Age            177\n",
       "SibSp            0\n",
       "Parch            0\n",
       "Ticket           0\n",
       "Fare             0\n",
       "Cabin          687\n",
       "Embarked         2\n",
       "dtype: int64"
      ]
     },
     "metadata": {},
     "output_type": "display_data"
    },
    {
     "name": "stdout",
     "output_type": "stream",
     "text": [
      "missing_value_in_test_data\n"
     ]
    },
    {
     "data": {
      "text/plain": [
       "PassengerId      0\n",
       "Pclass           0\n",
       "Name             0\n",
       "Sex              0\n",
       "Age             86\n",
       "SibSp            0\n",
       "Parch            0\n",
       "Ticket           0\n",
       "Fare             1\n",
       "Cabin          327\n",
       "Embarked         0\n",
       "dtype: int64"
      ]
     },
     "metadata": {},
     "output_type": "display_data"
    }
   ],
   "source": [
    "###JHU first we take a look at our data, df.shape and then\n",
    "###JHU we trying to fillin the nulls, data preparing process\n",
    "\n",
    "print(\"missing_values_in_train_data\")\n",
    "display(train_data.isnull().sum())\n",
    "print(\"missing_value_in_test_data\")\n",
    "display(test_data.isnull().sum())"
   ]
  },
  {
   "cell_type": "code",
   "execution_count": 7,
   "id": "subsequent-stick",
   "metadata": {},
   "outputs": [],
   "source": [
    "df_all=concat_df(train_data,test_data)\n"
   ]
  },
  {
   "cell_type": "code",
   "execution_count": 8,
   "id": "silent-consolidation",
   "metadata": {},
   "outputs": [],
   "source": [
    "####2 data cleansing \n",
    "### 2.1 Age\n"
   ]
  },
  {
   "cell_type": "code",
   "execution_count": 9,
   "id": "environmental-madonna",
   "metadata": {},
   "outputs": [
    {
     "name": "stdout",
     "output_type": "stream",
     "text": [
      "missing_age_values_in_total_data_set: 263\n",
      "missing_percentage: 20.0 %\n"
     ]
    }
   ],
   "source": [
    "print(\"missing_age_values_in_total_data_set: \"+str(df_all['Age'].isnull().sum()))\n",
    "print(\"missing_percentage: \"+str(round(df_all['Age'].isnull().sum()/len(df_all)*100,0))+\" %\")"
   ]
  },
  {
   "cell_type": "code",
   "execution_count": 10,
   "id": "relevant-elizabeth",
   "metadata": {},
   "outputs": [
    {
     "data": {
      "text/plain": [
       "<AxesSubplot:ylabel='Frequency'>"
      ]
     },
     "execution_count": 10,
     "metadata": {},
     "output_type": "execute_result"
    },
    {
     "data": {
      "image/png": "[encoded data removed]",
      "text/plain": [
       "<Figure size 432x288 with 1 Axes>"
      ]
     },
     "metadata": {
      "needs_background": "light"
     },
     "output_type": "display_data"
    }
   ],
   "source": [
    "###JHU\n",
    "import seaborn as sb\n",
    "\n",
    "train_data['Age'].plot.hist(alpha=0.4)\n",
    "\n",
    "\n",
    "###JHU we can see a un-normal distribution, since we lost many Age values\n",
    "###JHU does that affect our job? should we fillin more young aged data???"
   ]
  },
  {
   "cell_type": "code",
   "execution_count": 11,
   "id": "signed-frontier",
   "metadata": {},
   "outputs": [
    {
     "data": {
      "text/plain": [
       "<AxesSubplot:ylabel='Frequency'>"
      ]
     },
     "execution_count": 11,
     "metadata": {},
     "output_type": "execute_result"
    },
    {
     "data": {
      "image/png": "[encoded data removed]",
      "text/plain": [
       "<Figure size 432x288 with 1 Axes>"
      ]
     },
     "metadata": {
      "needs_background": "light"
     },
     "output_type": "display_data"
    }
   ],
   "source": [
    "###JHU\n",
    "train_data.pivot(columns='Pclass').Age.plot(kind='hist',stacked=True,alpha=0.4)"
   ]
  },
  {
   "cell_type": "code",
   "execution_count": 12,
   "id": "worse-present",
   "metadata": {},
   "outputs": [
    {
     "data": {
      "text/plain": [
       "Pclass\n",
       "1    AxesSubplot(0.125,0.125;0.775x0.755)\n",
       "2    AxesSubplot(0.125,0.125;0.775x0.755)\n",
       "3    AxesSubplot(0.125,0.125;0.775x0.755)\n",
       "Name: Age, dtype: object"
      ]
     },
     "execution_count": 12,
     "metadata": {},
     "output_type": "execute_result"
    },
    {
     "data": {
      "image/png": "[encoded data removed]",
      "text/plain": [
       "<Figure size 432x288 with 1 Axes>"
      ]
     },
     "metadata": {
      "needs_background": "light"
     },
     "output_type": "display_data"
    }
   ],
   "source": [
    "###JHU\n",
    "train_data.groupby(['Pclass'])['Age'].plot.hist(alpha=0.4,stacked=True,legend=True)\n"
   ]
  },
  {
   "cell_type": "code",
   "execution_count": 13,
   "id": "electrical-catholic",
   "metadata": {},
   "outputs": [
    {
     "data": {
      "text/plain": [
       "<AxesSubplot:xlabel='Age', ylabel='Count'>"
      ]
     },
     "execution_count": 13,
     "metadata": {},
     "output_type": "execute_result"
    },
    {
     "data": {
      "image/png": "[encoded data removed]",
      "text/plain": [
       "<Figure size 432x288 with 1 Axes>"
      ]
     },
     "metadata": {
      "needs_background": "light"
     },
     "output_type": "display_data"
    }
   ],
   "source": [
    "###JHU\n",
    "\n",
    "sb.histplot(data=train_data,x=\"Age\",hue=\"Pclass\",multiple=\"stack\",alpha=0.4)"
   ]
  },
  {
   "cell_type": "code",
   "execution_count": 14,
   "id": "critical-enforcement",
   "metadata": {},
   "outputs": [
    {
     "name": "stdout",
     "output_type": "stream",
     "text": [
      "median_for_Age_seperated_by_Pclass:\n"
     ]
    },
    {
     "data": {
      "text/plain": [
       "Pclass\n",
       "1    37.0\n",
       "2    29.0\n",
       "3    24.0\n",
       "Name: Age, dtype: float64"
      ]
     },
     "metadata": {},
     "output_type": "display_data"
    },
    {
     "name": "stdout",
     "output_type": "stream",
     "text": [
      "median_for_Age_seperated_by_Pclass_and_Sex:\n"
     ]
    },
    {
     "data": {
      "text/plain": [
       "Pclass  Sex   \n",
       "1       female    35.0\n",
       "        male      40.0\n",
       "2       female    28.0\n",
       "        male      30.0\n",
       "3       female    21.5\n",
       "        male      25.0\n",
       "Name: Age, dtype: float64"
      ]
     },
     "metadata": {},
     "output_type": "display_data"
    },
    {
     "name": "stdout",
     "output_type": "stream",
     "text": [
      "bumber_of_cases:\n"
     ]
    },
    {
     "data": {
      "text/plain": [
       "Pclass  Sex   \n",
       "1       female     85\n",
       "        male      101\n",
       "2       female     74\n",
       "        male       99\n",
       "3       female    102\n",
       "        male      253\n",
       "Name: Age, dtype: int64"
      ]
     },
     "metadata": {},
     "output_type": "display_data"
    }
   ],
   "source": [
    "print('median_for_Age_seperated_by_Pclass:')\n",
    "display(train_data.groupby('Pclass')['Age'].median())\n",
    "\n",
    "print('median_for_Age_seperated_by_Pclass_and_Sex:')\n",
    "display(train_data.groupby(['Pclass','Sex'])['Age'].median())\n",
    "\n",
    "print('bumber_of_cases:')\n",
    "display(train_data.groupby(['Pclass','Sex'])['Age'].count())"
   ]
  },
  {
   "cell_type": "code",
   "execution_count": 15,
   "id": "viral-allowance",
   "metadata": {},
   "outputs": [
    {
     "data": {
      "text/html": [
       "<div>\n",
       "<style scoped>\n",
       "    .dataframe tbody tr th:only-of-type {\n",
       "        vertical-align: middle;\n",
       "    }\n",
       "\n",
       "    .dataframe tbody tr th {\n",
       "        vertical-align: top;\n",
       "    }\n",
       "\n",
       "    .dataframe thead th {\n",
       "        text-align: right;\n",
       "    }\n",
       "</style>\n",
       "<table border=\"1\" class=\"dataframe\">\n",
       "  <thead>\n",
       "    <tr style=\"text-align: right;\">\n",
       "      <th></th>\n",
       "      <th>Age</th>\n",
       "      <th>Cabin</th>\n",
       "      <th>Embarked</th>\n",
       "      <th>Fare</th>\n",
       "      <th>Name</th>\n",
       "      <th>Parch</th>\n",
       "      <th>PassengerId</th>\n",
       "      <th>Pclass</th>\n",
       "      <th>Sex</th>\n",
       "      <th>SibSp</th>\n",
       "      <th>Survived</th>\n",
       "      <th>Ticket</th>\n",
       "    </tr>\n",
       "  </thead>\n",
       "  <tbody>\n",
       "    <tr>\n",
       "      <th>1245</th>\n",
       "      <td>0.17</td>\n",
       "      <td>NaN</td>\n",
       "      <td>S</td>\n",
       "      <td>20.5750</td>\n",
       "      <td>Dean, Miss. Elizabeth Gladys Millvina\"\"</td>\n",
       "      <td>2</td>\n",
       "      <td>1246</td>\n",
       "      <td>3</td>\n",
       "      <td>female</td>\n",
       "      <td>1</td>\n",
       "      <td>NaN</td>\n",
       "      <td>C.A. 2315</td>\n",
       "    </tr>\n",
       "    <tr>\n",
       "      <th>1125</th>\n",
       "      <td>39.00</td>\n",
       "      <td>C85</td>\n",
       "      <td>C</td>\n",
       "      <td>71.2833</td>\n",
       "      <td>Cumings, Mr. John Bradley</td>\n",
       "      <td>0</td>\n",
       "      <td>1126</td>\n",
       "      <td>1</td>\n",
       "      <td>male</td>\n",
       "      <td>1</td>\n",
       "      <td>NaN</td>\n",
       "      <td>PC 17599</td>\n",
       "    </tr>\n",
       "    <tr>\n",
       "      <th>8</th>\n",
       "      <td>27.00</td>\n",
       "      <td>NaN</td>\n",
       "      <td>S</td>\n",
       "      <td>11.1333</td>\n",
       "      <td>Johnson, Mrs. Oscar W (Elisabeth Vilhelmina Berg)</td>\n",
       "      <td>2</td>\n",
       "      <td>9</td>\n",
       "      <td>3</td>\n",
       "      <td>female</td>\n",
       "      <td>0</td>\n",
       "      <td>1.0</td>\n",
       "      <td>347742</td>\n",
       "    </tr>\n",
       "    <tr>\n",
       "      <th>23</th>\n",
       "      <td>28.00</td>\n",
       "      <td>A6</td>\n",
       "      <td>S</td>\n",
       "      <td>35.5000</td>\n",
       "      <td>Sloper, Mr. William Thompson</td>\n",
       "      <td>0</td>\n",
       "      <td>24</td>\n",
       "      <td>1</td>\n",
       "      <td>male</td>\n",
       "      <td>0</td>\n",
       "      <td>1.0</td>\n",
       "      <td>113788</td>\n",
       "    </tr>\n",
       "    <tr>\n",
       "      <th>1077</th>\n",
       "      <td>21.00</td>\n",
       "      <td>NaN</td>\n",
       "      <td>S</td>\n",
       "      <td>21.0000</td>\n",
       "      <td>Phillips, Miss. Alice Frances Louisa</td>\n",
       "      <td>1</td>\n",
       "      <td>1078</td>\n",
       "      <td>2</td>\n",
       "      <td>female</td>\n",
       "      <td>0</td>\n",
       "      <td>NaN</td>\n",
       "      <td>S.O./P.P. 2</td>\n",
       "    </tr>\n",
       "  </tbody>\n",
       "</table>\n",
       "</div>"
      ],
      "text/plain": [
       "        Age Cabin Embarked     Fare  \\\n",
       "1245   0.17   NaN        S  20.5750   \n",
       "1125  39.00   C85        C  71.2833   \n",
       "8     27.00   NaN        S  11.1333   \n",
       "23    28.00    A6        S  35.5000   \n",
       "1077  21.00   NaN        S  21.0000   \n",
       "\n",
       "                                                   Name  Parch  PassengerId  \\\n",
       "1245            Dean, Miss. Elizabeth Gladys Millvina\"\"      2         1246   \n",
       "1125                          Cumings, Mr. John Bradley      0         1126   \n",
       "8     Johnson, Mrs. Oscar W (Elisabeth Vilhelmina Berg)      2            9   \n",
       "23                         Sloper, Mr. William Thompson      0           24   \n",
       "1077               Phillips, Miss. Alice Frances Louisa      1         1078   \n",
       "\n",
       "      Pclass     Sex  SibSp  Survived       Ticket  \n",
       "1245       3  female      1       NaN    C.A. 2315  \n",
       "1125       1    male      1       NaN     PC 17599  \n",
       "8          3  female      0       1.0       347742  \n",
       "23         1    male      0       1.0       113788  \n",
       "1077       2  female      0       NaN  S.O./P.P. 2  "
      ]
     },
     "execution_count": 15,
     "metadata": {},
     "output_type": "execute_result"
    }
   ],
   "source": [
    "#replace the missing value with the medians of each group\n",
    "\n",
    "###JHU learn the way to fill the null values in the dataset###\n",
    "\n",
    "df_all['Age']=df_all.groupby(['Pclass','Sex'])['Age'].apply(lambda x:x.fillna(x.median()))\n",
    "df_all.sample(5)\n"
   ]
  },
  {
   "cell_type": "code",
   "execution_count": 16,
   "id": "inappropriate-dinner",
   "metadata": {},
   "outputs": [],
   "source": [
    "####2 data cleansing \n",
    "### 2.2 Fare\n"
   ]
  },
  {
   "cell_type": "code",
   "execution_count": 17,
   "id": "lined-maryland",
   "metadata": {},
   "outputs": [
    {
     "data": {
      "text/html": [
       "<div>\n",
       "<style scoped>\n",
       "    .dataframe tbody tr th:only-of-type {\n",
       "        vertical-align: middle;\n",
       "    }\n",
       "\n",
       "    .dataframe tbody tr th {\n",
       "        vertical-align: top;\n",
       "    }\n",
       "\n",
       "    .dataframe thead th {\n",
       "        text-align: right;\n",
       "    }\n",
       "</style>\n",
       "<table border=\"1\" class=\"dataframe\">\n",
       "  <thead>\n",
       "    <tr style=\"text-align: right;\">\n",
       "      <th></th>\n",
       "      <th>Age</th>\n",
       "      <th>Cabin</th>\n",
       "      <th>Embarked</th>\n",
       "      <th>Fare</th>\n",
       "      <th>Name</th>\n",
       "      <th>Parch</th>\n",
       "      <th>PassengerId</th>\n",
       "      <th>Pclass</th>\n",
       "      <th>Sex</th>\n",
       "      <th>SibSp</th>\n",
       "      <th>Survived</th>\n",
       "      <th>Ticket</th>\n",
       "    </tr>\n",
       "  </thead>\n",
       "  <tbody>\n",
       "    <tr>\n",
       "      <th>1043</th>\n",
       "      <td>60.5</td>\n",
       "      <td>NaN</td>\n",
       "      <td>S</td>\n",
       "      <td>NaN</td>\n",
       "      <td>Storey, Mr. Thomas</td>\n",
       "      <td>0</td>\n",
       "      <td>1044</td>\n",
       "      <td>3</td>\n",
       "      <td>male</td>\n",
       "      <td>0</td>\n",
       "      <td>NaN</td>\n",
       "      <td>3701</td>\n",
       "    </tr>\n",
       "  </tbody>\n",
       "</table>\n",
       "</div>"
      ],
      "text/plain": [
       "       Age Cabin Embarked  Fare                Name  Parch  PassengerId  \\\n",
       "1043  60.5   NaN        S   NaN  Storey, Mr. Thomas      0         1044   \n",
       "\n",
       "      Pclass   Sex  SibSp  Survived Ticket  \n",
       "1043       3  male      0       NaN   3701  "
      ]
     },
     "execution_count": 17,
     "metadata": {},
     "output_type": "execute_result"
    }
   ],
   "source": [
    "df_all.loc[df_all['Fare'].isnull()]"
   ]
  },
  {
   "cell_type": "code",
   "execution_count": 18,
   "id": "raising-capability",
   "metadata": {},
   "outputs": [
    {
     "name": "stdout",
     "output_type": "stream",
     "text": [
      "7.925\n"
     ]
    }
   ],
   "source": [
    "#loc cases which are similiar to Mr.Thomas and use the median of fare to replace the missing for his data set\n",
    "mr_thomas=df_all.loc[(df_all['Pclass']==3)&(df_all['SibSp']==0)&(df_all['Embarked']=='S')]['Fare'].median()\n",
    "print(mr_thomas)\n",
    "\n",
    "#\n",
    "df_all.loc[df_all['Fare'].isnull(),'Fare']=mr_thomas\n",
    "\n",
    "###JHU anywany we can wrote it more simple?"
   ]
  },
  {
   "cell_type": "code",
   "execution_count": 19,
   "id": "helpful-physiology",
   "metadata": {},
   "outputs": [],
   "source": [
    "####2 data cleansing \n",
    "### 2.3 Cabin\n"
   ]
  },
  {
   "cell_type": "code",
   "execution_count": 20,
   "id": "accepted-theory",
   "metadata": {},
   "outputs": [
    {
     "data": {
      "text/plain": [
       "array([nan, 'C85', 'C123', 'E46', 'G6', 'C103', 'D56', 'A6',\n",
       "       'C23 C25 C27', 'B78', 'D33', 'B30', 'C52', 'B28', 'C83', 'F33',\n",
       "       'F G73', 'E31', 'A5', 'D10 D12', 'D26', 'C110', 'B58 B60', 'E101',\n",
       "       'F E69', 'D47', 'B86', 'F2', 'C2', 'E33', 'B19', 'A7', 'C49', 'F4',\n",
       "       'A32', 'B4', 'B80', 'A31', 'D36', 'D15', 'C93', 'C78', 'D35',\n",
       "       'C87', 'B77', 'E67', 'B94', 'C125', 'C99', 'C118', 'D7', 'A19',\n",
       "       'B49', 'D', 'C22 C26', 'C106', 'C65', 'E36', 'C54',\n",
       "       'B57 B59 B63 B66', 'C7', 'E34', 'C32', 'B18', 'C124', 'C91', 'E40',\n",
       "       'T', 'C128', 'D37', 'B35', 'E50', 'C82', 'B96 B98', 'E10', 'E44',\n",
       "       'A34', 'C104', 'C111', 'C92', 'E38', 'D21', 'E12', 'E63', 'A14',\n",
       "       'B37', 'C30', 'D20', 'B79', 'E25', 'D46', 'B73', 'C95', 'B38',\n",
       "       'B39', 'B22', 'C86', 'C70', 'A16', 'C101', 'C68', 'A10', 'E68',\n",
       "       'B41', 'A20', 'D19', 'D50', 'D9', 'A23', 'B50', 'A26', 'D48',\n",
       "       'E58', 'C126', 'B71', 'B51 B53 B55', 'D49', 'B5', 'B20', 'F G63',\n",
       "       'C62 C64', 'E24', 'C90', 'C45', 'E8', 'B101', 'D45', 'C46', 'D30',\n",
       "       'E121', 'D11', 'E77', 'F38', 'B3', 'D6', 'B82 B84', 'D17', 'A36',\n",
       "       'B102', 'B69', 'E49', 'C47', 'D28', 'E17', 'A24', 'C50', 'B42',\n",
       "       'C148'], dtype=object)"
      ]
     },
     "metadata": {},
     "output_type": "display_data"
    },
    {
     "name": "stdout",
     "output_type": "stream",
     "text": [
      "there_are 147 different_values_for_Cabin_and 687 cases_are_missing\n"
     ]
    }
   ],
   "source": [
    "display(train_data['Cabin'].unique())\n",
    "print('there_are '+str(train_data['Cabin'].nunique())+' different_values_for_Cabin_and '+str(train_data['Cabin'].isnull().sum())+' cases_are_missing')"
   ]
  },
  {
   "cell_type": "code",
   "execution_count": 21,
   "id": "hearing-thomas",
   "metadata": {},
   "outputs": [
    {
     "data": {
      "text/plain": [
       "G6             4\n",
       "B96 B98        4\n",
       "C23 C25 C27    4\n",
       "F2             3\n",
       "D              3\n",
       "              ..\n",
       "C70            1\n",
       "B38            1\n",
       "C106           1\n",
       "E17            1\n",
       "E63            1\n",
       "Name: Cabin, Length: 147, dtype: int64"
      ]
     },
     "execution_count": 21,
     "metadata": {},
     "output_type": "execute_result"
    }
   ],
   "source": [
    "############################################################################################################################################ Google Colab\n",
    "\n",
    "train_data['Cabin'].value_counts()   ## code work\n"
   ]
  },
  {
   "cell_type": "code",
   "execution_count": 22,
   "id": "controversial-current",
   "metadata": {},
   "outputs": [
    {
     "name": "stdout",
     "output_type": "stream",
     "text": [
      "<class 'pandas.core.frame.DataFrame'>\n",
      "RangeIndex: 891 entries, 0 to 890\n",
      "Data columns (total 12 columns):\n",
      " #   Column       Non-Null Count  Dtype  \n",
      "---  ------       --------------  -----  \n",
      " 0   PassengerId  891 non-null    int64  \n",
      " 1   Survived     891 non-null    int64  \n",
      " 2   Pclass       891 non-null    int64  \n",
      " 3   Name         891 non-null    object \n",
      " 4   Sex          891 non-null    object \n",
      " 5   Age          714 non-null    float64\n",
      " 6   SibSp        891 non-null    int64  \n",
      " 7   Parch        891 non-null    int64  \n",
      " 8   Ticket       891 non-null    object \n",
      " 9   Fare         891 non-null    float64\n",
      " 10  Cabin        204 non-null    object \n",
      " 11  Embarked     889 non-null    object \n",
      "dtypes: float64(2), int64(5), object(5)\n",
      "memory usage: 83.7+ KB\n",
      "<class 'pandas.core.frame.DataFrame'>\n",
      "RangeIndex: 1309 entries, 0 to 1308\n",
      "Data columns (total 12 columns):\n",
      " #   Column       Non-Null Count  Dtype  \n",
      "---  ------       --------------  -----  \n",
      " 0   Age          1309 non-null   float64\n",
      " 1   Cabin        295 non-null    object \n",
      " 2   Embarked     1307 non-null   object \n",
      " 3   Fare         1309 non-null   float64\n",
      " 4   Name         1309 non-null   object \n",
      " 5   Parch        1309 non-null   int64  \n",
      " 6   PassengerId  1309 non-null   int64  \n",
      " 7   Pclass       1309 non-null   int64  \n",
      " 8   Sex          1309 non-null   object \n",
      " 9   SibSp        1309 non-null   int64  \n",
      " 10  Survived     891 non-null    float64\n",
      " 11  Ticket       1309 non-null   object \n",
      "dtypes: float64(3), int64(4), object(5)\n",
      "memory usage: 122.8+ KB\n"
     ]
    }
   ],
   "source": [
    "train_data.info()\n",
    "df_all.info()"
   ]
  },
  {
   "cell_type": "code",
   "execution_count": 23,
   "id": "mature-emerald",
   "metadata": {},
   "outputs": [],
   "source": [
    "#\n",
    "\n",
    "##print(train_data[train_data['Cabin'].isnull()])\n",
    "#Then for removing all non-numeric values use to_numeric with parameter errors='coerce' - to replace non-numeric values to NaNs:\n",
    "##train_data['Cabin'] = pd.to_numeric(train_data['Cabin'], errors='coerce')\n",
    "#And for remove all rows with NaNs in column x use dropna:\n",
    "##train_data = train_data.dropna(subset=['Cabin'])\n",
    "#Last convert values to ints:\n",
    "##train_data['Cabin'] = train_data['Cabin'].astype(int)\n",
    "\n",
    "\n",
    "#for dataset in df_all:\n",
    "    #dataset['Cabin'] = dataset['Cabin'].astype('int').str.slice(0,1)\n",
    "    #dataset['Cabin']=dataset['Cabin'].apply(lambda s:s[0] if pd.notnull(s) else s).astype(int)\n",
    "#str.slice(0,1)\n",
    "#df['purchase'].astype(str).astype(int)\n",
    "\n",
    "#df_all['Cabin']=df_all.groupby(['Pclass','Fare'])['Cabin'].apply(lambda s:s[0] if pd.notnull(s) else s)\n",
    "\n",
    "\n",
    "#train_data.Cabin = train_data.Cabin.astype(int) \n",
    "#train_data.info()\n"
   ]
  },
  {
   "cell_type": "code",
   "execution_count": 24,
   "id": "distinct-cotton",
   "metadata": {},
   "outputs": [],
   "source": [
    "#Pclass1 = train_data[train_data['Pclass']==1]['Cabin'].value_counts()\n",
    "#Pclass2 = train_data[train_data['Pclass']==2]['Cabin'].value_counts()\n",
    "#Pclass3 = train_data[train_data['Pclass']==3]['Cabin'].value_counts()\n",
    "#df = pd.DataFrame([Pclass1, Pclass2, Pclass3])\n",
    "#df.index = ['1st class','2nd class', '3rd class']\n",
    "#df.plot(kind='bar',stacked=True, figsize=(10,5))\n",
    "\n"
   ]
  },
  {
   "cell_type": "code",
   "execution_count": 25,
   "id": "hairy-finance",
   "metadata": {},
   "outputs": [],
   "source": [
    "\n",
    "#cabin_mapping = {\"A\":0,\"B\":0.4,\"C\":0.8,\"D\":1.2,\"E\":1.6,\"F\":2,\"G\":2.4,\"T\":2.8}\n",
    "#df_all['Cabin'] = df_all['Cabin'].map(cabin_mapping)\n",
    "\n",
    "\n",
    "#####################################################################################################################################"
   ]
  },
  {
   "cell_type": "code",
   "execution_count": 26,
   "id": "hairy-nevada",
   "metadata": {},
   "outputs": [
    {
     "name": "stdout",
     "output_type": "stream",
     "text": [
      "       Age Cabin Embarked     Fare                              Name  Parch  \\\n",
      "12    20.0   NaN        S   8.0500    Saundercock, Mr. William Henry      0   \n",
      "793   42.0   NaN        C  30.6958          Hoyt, Mr. William Fisher      0   \n",
      "1230  25.0   NaN        C   7.2292             Betros, Master. Seman      0   \n",
      "279   35.0   NaN        S  20.2500  Abbott, Mrs. Stanton (Rosa Hunt)      1   \n",
      "974   25.0   NaN        S   7.8958              Demetri, Mr. Marinko      0   \n",
      "\n",
      "      PassengerId  Pclass     Sex  SibSp  Survived     Ticket Deck  \n",
      "12             13       3    male      0       0.0  A/5. 2151  NaN  \n",
      "793           794       1    male      0       0.0   PC 17600  NaN  \n",
      "1230         1231       3    male      0       NaN       2622  NaN  \n",
      "279           280       3  female      1       1.0  C.A. 2673  NaN  \n",
      "974           975       3    male      0       NaN     349238  NaN  \n"
     ]
    },
    {
     "data": {
      "text/plain": [
       "Text(0.5, 0.98, 'Count_for_different_Deck')"
      ]
     },
     "execution_count": 26,
     "metadata": {},
     "output_type": "execute_result"
    },
    {
     "data": {
      "image/png": "[encoded data removed]",
      "text/plain": [
       "<Figure size 432x288 with 1 Axes>"
      ]
     },
     "metadata": {
      "needs_background": "light"
     },
     "output_type": "display_data"
    }
   ],
   "source": [
    "#keep all first letters of Cabin in new variable and use \"M\" for each missing\n",
    "###JHU any better way to do this?\n",
    "#####################################################################################################################################\n",
    "\n",
    "df_all['Deck']=df_all['Cabin'].apply(lambda s:s[0] if pd.notnull(s) else s)\n",
    "\n",
    "#df_all['Deck']=df_all['Cabin'].apply(lambda s:s[0] if pd.notnull(s) else df_all.groupby(['Pclass','Fare'])['Cabin'].median())\n",
    "\n",
    "\n",
    "#\n",
    "#df_all['Deck']=df_all(['Pclass','Fare'])['Cabin'].apply(lambda s:s[0] if pd.notnull(s) else 'M')\n",
    "\n",
    "\n",
    "print(df_all.sample(5))\n",
    "import matplotlib.pyplot as pl\n",
    "\n",
    "df_all.groupby('Deck')['Survived'].count().plot(kind='bar')\n",
    "pl.suptitle('Count_for_different_Deck')\n",
    "\n",
    "\n",
    "##\n",
    "#orders['item_price'] = orders.item_price.str.replace('$', '').astype(float)\n",
    "\n",
    "\n",
    "##\n",
    "#df_all['Age']=df_all.groupby(['Pclass','Sex'])['Age'].apply(lambda x:x.fillna(x.median()))\n",
    "#df_all.sample(5)\n",
    "\n",
    "\n",
    "#\n",
    "#df_all[['Deck','Survived']].groupby('Deck')['Survived'].mean().plot(kind='bar')\n",
    "#pl.suptitle('Survival_rates_for_different_cabines')"
   ]
  },
  {
   "cell_type": "code",
   "execution_count": 27,
   "id": "sensitive-officer",
   "metadata": {},
   "outputs": [
    {
     "data": {
      "text/plain": [
       "Text(0.5, 0.98, 'Survival_mean_for_different_Deck')"
      ]
     },
     "execution_count": 27,
     "metadata": {},
     "output_type": "execute_result"
    },
    {
     "data": {
      "image/png": "[encoded data removed]",
      "text/plain": [
       "<Figure size 432x288 with 1 Axes>"
      ]
     },
     "metadata": {
      "needs_background": "light"
     },
     "output_type": "display_data"
    }
   ],
   "source": [
    "##################################################################################################################################\n",
    "\n",
    "df_all.groupby('Deck')['Survived'].mean().plot(kind='bar')\n",
    "pl.suptitle('Survival_mean_for_different_Deck')\n"
   ]
  },
  {
   "cell_type": "code",
   "execution_count": 28,
   "id": "subsequent-volume",
   "metadata": {},
   "outputs": [],
   "source": [
    "############################################################################################################################# cut Fare feature into sever bins\n",
    "#df_all_1=df_all\n",
    "#df_all_1['Fare']=pd.cut(df_all_1['Fare'],5,labels=[\"<102\",\"<204\",\"<307\",\"<409\",\"<512\"])\n",
    "\n",
    "#df_all_1['Fare'].value_counts()\n",
    "\n",
    "#df_all_1.groupby('Fare')['Survived'].count().plot(kind='bar')"
   ]
  },
  {
   "cell_type": "code",
   "execution_count": 29,
   "id": "concerned-soldier",
   "metadata": {},
   "outputs": [
    {
     "data": {
      "text/plain": [
       "Pclass  Fare\n",
       "1       <102    2.0\n",
       "        <204    NaN\n",
       "        <307    NaN\n",
       "        <409    3.0\n",
       "        <512    3.0\n",
       "2       <102    NaN\n",
       "        <204    6.0\n",
       "        <307    4.0\n",
       "        <409    6.0\n",
       "        <512    NaN\n",
       "3       <102    6.0\n",
       "        <204    7.0\n",
       "        <307    7.0\n",
       "        <409    6.0\n",
       "        <512    NaN\n",
       "Name: Deck, dtype: float64"
      ]
     },
     "execution_count": 29,
     "metadata": {},
     "output_type": "execute_result"
    },
    {
     "data": {
      "image/png": "[encoded data removed]",
      "text/plain": [
       "<Figure size 432x288 with 1 Axes>"
      ]
     },
     "metadata": {
      "needs_background": "light"
     },
     "output_type": "display_data"
    }
   ],
   "source": [
    "############################################################################################################################# Groupby Pclass Fare\n",
    "\n",
    "df_all['Fare']=pd.qcut(df_all['Fare'],5,labels=[\"<102\",\"<204\",\"<307\",\"<409\",\"<512\"])\n",
    "###JHU change the orignal ,labels=[\"<7.8\",\"<10.5\",\"<21.5\",\"<41.5\",\"<512.3\"] to ,labels=[\"<102\",\"<204\",\"<307\",\"<409\",\"<512\"]\n",
    "\n",
    "df_all.groupby('Fare')['Fare'].count().plot(kind='bar')\n",
    "\n",
    "# map letters to numbers so we could do mathematical operations, then we'll convert back to letters\n",
    "deck_dict = {'A': 1,\n",
    "'B': 2,\n",
    "'C': 3,\n",
    "'D': 4,\n",
    "'E': 5,\n",
    "'F': 6,\n",
    "'G': 7,\n",
    "'T': 8\n",
    "}\n",
    "df_all['Deck'] = df_all['Deck'].map(deck_dict)\n",
    "\n",
    "# group by Pclass and Fare and make the median\n",
    "median_deck = df_all.groupby(['Pclass','Fare'])\n",
    "median_deck['Deck'].median()\n"
   ]
  },
  {
   "cell_type": "code",
   "execution_count": 30,
   "id": "taken-springfield",
   "metadata": {},
   "outputs": [
    {
     "data": {
      "text/plain": [
       "Pclass  Age\n",
       "1       <16    2.0\n",
       "        <32    3.0\n",
       "        <48    3.0\n",
       "        <64    3.0\n",
       "        <80    2.0\n",
       "2       <16    6.0\n",
       "        <32    5.5\n",
       "        <48    5.0\n",
       "        <64    5.0\n",
       "        <80    NaN\n",
       "3       <16    7.0\n",
       "        <32    6.0\n",
       "        <48    6.0\n",
       "        <64    NaN\n",
       "        <80    NaN\n",
       "Name: Deck, dtype: float64"
      ]
     },
     "execution_count": 30,
     "metadata": {},
     "output_type": "execute_result"
    }
   ],
   "source": [
    "############################################################################################################################## Groupby Pclass Age\n",
    "\n",
    "df_all['Age']=pd.cut(df_all['Age'],5,labels=[\"<16\",\"<32\",\"<48\",\"<64\",\"<80\"])\n",
    "\n",
    "# group by Pclass and Fare and make the median\n",
    "median_deck_2 = df_all.groupby(['Pclass','Age'])\n",
    "median_deck_2['Deck'].median()\n"
   ]
  },
  {
   "cell_type": "code",
   "execution_count": 31,
   "id": "continent-directory",
   "metadata": {},
   "outputs": [
    {
     "name": "stdout",
     "output_type": "stream",
     "text": [
      "<class 'pandas.core.frame.DataFrame'>\n",
      "RangeIndex: 1309 entries, 0 to 1308\n",
      "Data columns (total 13 columns):\n",
      " #   Column       Non-Null Count  Dtype   \n",
      "---  ------       --------------  -----   \n",
      " 0   Age          1309 non-null   category\n",
      " 1   Cabin        295 non-null    object  \n",
      " 2   Embarked     1307 non-null   object  \n",
      " 3   Fare         1309 non-null   category\n",
      " 4   Name         1309 non-null   object  \n",
      " 5   Parch        1309 non-null   int64   \n",
      " 6   PassengerId  1309 non-null   int64   \n",
      " 7   Pclass       1309 non-null   int64   \n",
      " 8   Sex          1309 non-null   object  \n",
      " 9   SibSp        1309 non-null   int64   \n",
      " 10  Survived     891 non-null    float64 \n",
      " 11  Ticket       1309 non-null   object  \n",
      " 12  Deck         1264 non-null   float64 \n",
      "dtypes: category(2), float64(2), int64(4), object(5)\n",
      "memory usage: 115.6+ KB\n"
     ]
    },
    {
     "name": "stderr",
     "output_type": "stream",
     "text": [
      "/home/marry/.local/lib/python3.8/site-packages/numpy/lib/nanfunctions.py:1111: RuntimeWarning: Mean of empty slice\n",
      "  return np.nanmean(a, axis, out=out, keepdims=keepdims)\n",
      "/home/marry/.local/lib/python3.8/site-packages/numpy/lib/nanfunctions.py:1111: RuntimeWarning: Mean of empty slice\n",
      "  return np.nanmean(a, axis, out=out, keepdims=keepdims)\n",
      "/home/marry/.local/lib/python3.8/site-packages/numpy/lib/nanfunctions.py:1111: RuntimeWarning: Mean of empty slice\n",
      "  return np.nanmean(a, axis, out=out, keepdims=keepdims)\n"
     ]
    },
    {
     "data": {
      "text/html": [
       "<div>\n",
       "<style scoped>\n",
       "    .dataframe tbody tr th:only-of-type {\n",
       "        vertical-align: middle;\n",
       "    }\n",
       "\n",
       "    .dataframe tbody tr th {\n",
       "        vertical-align: top;\n",
       "    }\n",
       "\n",
       "    .dataframe thead th {\n",
       "        text-align: right;\n",
       "    }\n",
       "</style>\n",
       "<table border=\"1\" class=\"dataframe\">\n",
       "  <thead>\n",
       "    <tr style=\"text-align: right;\">\n",
       "      <th></th>\n",
       "      <th>Age</th>\n",
       "      <th>Cabin</th>\n",
       "      <th>Embarked</th>\n",
       "      <th>Fare</th>\n",
       "      <th>Name</th>\n",
       "      <th>Parch</th>\n",
       "      <th>PassengerId</th>\n",
       "      <th>Pclass</th>\n",
       "      <th>Sex</th>\n",
       "      <th>SibSp</th>\n",
       "      <th>Survived</th>\n",
       "      <th>Ticket</th>\n",
       "      <th>Deck</th>\n",
       "    </tr>\n",
       "  </thead>\n",
       "  <tbody>\n",
       "    <tr>\n",
       "      <th>488</th>\n",
       "      <td>&lt;32</td>\n",
       "      <td>NaN</td>\n",
       "      <td>S</td>\n",
       "      <td>&lt;204</td>\n",
       "      <td>Somerton, Mr. Francis William</td>\n",
       "      <td>0</td>\n",
       "      <td>489</td>\n",
       "      <td>3</td>\n",
       "      <td>male</td>\n",
       "      <td>0</td>\n",
       "      <td>0.0</td>\n",
       "      <td>A.5. 18509</td>\n",
       "      <td>7.0</td>\n",
       "    </tr>\n",
       "    <tr>\n",
       "      <th>844</th>\n",
       "      <td>&lt;32</td>\n",
       "      <td>NaN</td>\n",
       "      <td>S</td>\n",
       "      <td>&lt;204</td>\n",
       "      <td>Culumovic, Mr. Jeso</td>\n",
       "      <td>0</td>\n",
       "      <td>845</td>\n",
       "      <td>3</td>\n",
       "      <td>male</td>\n",
       "      <td>0</td>\n",
       "      <td>0.0</td>\n",
       "      <td>315090</td>\n",
       "      <td>7.0</td>\n",
       "    </tr>\n",
       "    <tr>\n",
       "      <th>273</th>\n",
       "      <td>&lt;48</td>\n",
       "      <td>C118</td>\n",
       "      <td>C</td>\n",
       "      <td>&lt;409</td>\n",
       "      <td>Natsch, Mr. Charles H</td>\n",
       "      <td>1</td>\n",
       "      <td>274</td>\n",
       "      <td>1</td>\n",
       "      <td>male</td>\n",
       "      <td>0</td>\n",
       "      <td>0.0</td>\n",
       "      <td>PC 17596</td>\n",
       "      <td>3.0</td>\n",
       "    </tr>\n",
       "    <tr>\n",
       "      <th>737</th>\n",
       "      <td>&lt;48</td>\n",
       "      <td>B101</td>\n",
       "      <td>C</td>\n",
       "      <td>&lt;512</td>\n",
       "      <td>Lesurer, Mr. Gustave J</td>\n",
       "      <td>0</td>\n",
       "      <td>738</td>\n",
       "      <td>1</td>\n",
       "      <td>male</td>\n",
       "      <td>0</td>\n",
       "      <td>1.0</td>\n",
       "      <td>PC 17755</td>\n",
       "      <td>2.0</td>\n",
       "    </tr>\n",
       "    <tr>\n",
       "      <th>312</th>\n",
       "      <td>&lt;32</td>\n",
       "      <td>NaN</td>\n",
       "      <td>S</td>\n",
       "      <td>&lt;409</td>\n",
       "      <td>Lahtinen, Mrs. William (Anna Sylfven)</td>\n",
       "      <td>1</td>\n",
       "      <td>313</td>\n",
       "      <td>2</td>\n",
       "      <td>female</td>\n",
       "      <td>1</td>\n",
       "      <td>0.0</td>\n",
       "      <td>250651</td>\n",
       "      <td>6.0</td>\n",
       "    </tr>\n",
       "  </tbody>\n",
       "</table>\n",
       "</div>"
      ],
      "text/plain": [
       "     Age Cabin Embarked  Fare                                   Name  Parch  \\\n",
       "488  <32   NaN        S  <204          Somerton, Mr. Francis William      0   \n",
       "844  <32   NaN        S  <204                    Culumovic, Mr. Jeso      0   \n",
       "273  <48  C118        C  <409                  Natsch, Mr. Charles H      1   \n",
       "737  <48  B101        C  <512                 Lesurer, Mr. Gustave J      0   \n",
       "312  <32   NaN        S  <409  Lahtinen, Mrs. William (Anna Sylfven)      1   \n",
       "\n",
       "     PassengerId  Pclass     Sex  SibSp  Survived      Ticket  Deck  \n",
       "488          489       3    male      0       0.0  A.5. 18509   7.0  \n",
       "844          845       3    male      0       0.0      315090   7.0  \n",
       "273          274       1    male      0       0.0    PC 17596   3.0  \n",
       "737          738       1    male      0       1.0    PC 17755   2.0  \n",
       "312          313       2  female      1       0.0      250651   6.0  "
      ]
     },
     "execution_count": 31,
     "metadata": {},
     "output_type": "execute_result"
    }
   ],
   "source": [
    "############################################################################################################################### Fillin Cabin based on Pclass Fare\n",
    "\n",
    "\n",
    "# Fill up the NaNs for the cabin based on the grouping above\n",
    "df_all['Deck'] = median_deck['Deck'].transform(lambda x: x.fillna(x.median()))\n",
    "df_all.info()\n",
    "\n",
    "df_all.sample(5)"
   ]
  },
  {
   "cell_type": "code",
   "execution_count": 32,
   "id": "second-shuttle",
   "metadata": {},
   "outputs": [
    {
     "name": "stdout",
     "output_type": "stream",
     "text": [
      "null_value_in_Deck_column\n"
     ]
    },
    {
     "data": {
      "text/plain": [
       "45"
      ]
     },
     "execution_count": 32,
     "metadata": {},
     "output_type": "execute_result"
    }
   ],
   "source": [
    "#################################################################################################################################\n",
    "\n",
    "print('null_value_in_Deck_column')\n",
    "df_all['Deck'].isnull().sum()\n",
    "\n",
    "\n",
    "#\n",
    "#print(\"missing_values_in_train_data\")\n",
    "#display(train_data.isnull().sum())\n",
    "#print(\"missing_value_in_test_data\")\n",
    "#display(test_data.isnull().sum())\n"
   ]
  },
  {
   "cell_type": "code",
   "execution_count": 33,
   "id": "excited-market",
   "metadata": {},
   "outputs": [
    {
     "data": {
      "text/plain": [
       "Text(0.5, 0.98, 'Count_for_different_Deck_after_fillin_operation')"
      ]
     },
     "execution_count": 33,
     "metadata": {},
     "output_type": "execute_result"
    },
    {
     "data": {
      "image/png": "[encoded data removed]",
      "text/plain": [
       "<Figure size 432x288 with 1 Axes>"
      ]
     },
     "metadata": {
      "needs_background": "light"
     },
     "output_type": "display_data"
    }
   ],
   "source": [
    "##################################################################################################################################\n",
    "\n",
    "df_all.groupby('Deck')['Deck'].count().plot(kind='bar')\n",
    "pl.suptitle('Count_for_different_Deck_after_fillin_operation')\n",
    "\n",
    "###JHU Same As below code\n",
    "#df_all.groupby('Deck')['Survived'].count().plot(kind='bar')"
   ]
  },
  {
   "cell_type": "code",
   "execution_count": 34,
   "id": "incident-cartoon",
   "metadata": {},
   "outputs": [
    {
     "data": {
      "text/plain": [
       "Text(0.5, 0.98, 'Survival_mean_for_different_Deck_after_fillin_operation')"
      ]
     },
     "execution_count": 34,
     "metadata": {},
     "output_type": "execute_result"
    },
    {
     "data": {
      "image/png": "[encoded data removed]",
      "text/plain": [
       "<Figure size 432x288 with 1 Axes>"
      ]
     },
     "metadata": {
      "needs_background": "light"
     },
     "output_type": "display_data"
    }
   ],
   "source": [
    "##################################################################################################################################\n",
    "\n",
    "df_all.groupby('Deck')['Survived'].mean().plot(kind='bar')\n",
    "pl.suptitle('Survival_mean_for_different_Deck_after_fillin_operation')\n"
   ]
  },
  {
   "cell_type": "code",
   "execution_count": 35,
   "id": "desperate-helena",
   "metadata": {},
   "outputs": [
    {
     "data": {
      "text/plain": [
       "Text(0.5, 0.98, 'Count_for_different_Fare_Group')"
      ]
     },
     "execution_count": 35,
     "metadata": {},
     "output_type": "execute_result"
    },
    {
     "data": {
      "image/png": "[encoded data removed]",
      "text/plain": [
       "<Figure size 432x288 with 1 Axes>"
      ]
     },
     "metadata": {
      "needs_background": "light"
     },
     "output_type": "display_data"
    }
   ],
   "source": [
    "################################################################################################################################## Check if Deck 6 and 7 were low price ticket\n",
    "\n",
    "df_all.groupby('Fare')['Survived'].mean().plot(kind='bar')\n",
    "pl.suptitle('Count_for_different_Fare_Group')\n"
   ]
  },
  {
   "cell_type": "code",
   "execution_count": 36,
   "id": "advanced-buffalo",
   "metadata": {},
   "outputs": [
    {
     "data": {
      "text/plain": [
       "Text(0.5, 0.98, 'Count_for_different_Fare_Group')"
      ]
     },
     "execution_count": 36,
     "metadata": {},
     "output_type": "execute_result"
    },
    {
     "data": {
      "image/png": "[encoded data removed]",
      "text/plain": [
       "<Figure size 432x288 with 1 Axes>"
      ]
     },
     "metadata": {
      "needs_background": "light"
     },
     "output_type": "display_data"
    }
   ],
   "source": [
    "################################################################################################################################## Check if Deck 6 and 7 were low price ticket\n",
    "\n",
    "df_all.groupby('Fare')['Fare'].count().plot(kind='bar')\n",
    "pl.suptitle('Count_for_different_Fare_Group')\n"
   ]
  },
  {
   "cell_type": "code",
   "execution_count": 37,
   "id": "joined-consensus",
   "metadata": {},
   "outputs": [
    {
     "data": {
      "text/plain": [
       "<AxesSubplot:xlabel='Deck'>"
      ]
     },
     "execution_count": 37,
     "metadata": {},
     "output_type": "execute_result"
    },
    {
     "data": {
      "image/png": "[encoded data removed]",
      "text/plain": [
       "<Figure size 432x288 with 1 Axes>"
      ]
     },
     "metadata": {
      "needs_background": "light"
     },
     "output_type": "display_data"
    }
   ],
   "source": [
    "##################################################################################################################################\n",
    "\n",
    "###JHU\n",
    "\n",
    "\n",
    "df_all['Deck'] = df_all['Deck'].fillna(5)\n",
    "\n",
    "\n",
    "df_all.groupby('Deck')['Survived'].mean().plot(kind='bar',alpha=0.4,legend=True)"
   ]
  },
  {
   "cell_type": "code",
   "execution_count": 38,
   "id": "injured-hypothetical",
   "metadata": {},
   "outputs": [
    {
     "data": {
      "text/html": [
       "<div>\n",
       "<style scoped>\n",
       "    .dataframe tbody tr th:only-of-type {\n",
       "        vertical-align: middle;\n",
       "    }\n",
       "\n",
       "    .dataframe tbody tr th {\n",
       "        vertical-align: top;\n",
       "    }\n",
       "\n",
       "    .dataframe thead th {\n",
       "        text-align: right;\n",
       "    }\n",
       "</style>\n",
       "<table border=\"1\" class=\"dataframe\">\n",
       "  <thead>\n",
       "    <tr style=\"text-align: right;\">\n",
       "      <th></th>\n",
       "      <th>Age</th>\n",
       "      <th>Cabin</th>\n",
       "      <th>Embarked</th>\n",
       "      <th>Fare</th>\n",
       "      <th>Name</th>\n",
       "      <th>Parch</th>\n",
       "      <th>PassengerId</th>\n",
       "      <th>Pclass</th>\n",
       "      <th>Sex</th>\n",
       "      <th>SibSp</th>\n",
       "      <th>Survived</th>\n",
       "      <th>Ticket</th>\n",
       "      <th>Deck</th>\n",
       "    </tr>\n",
       "  </thead>\n",
       "  <tbody>\n",
       "    <tr>\n",
       "      <th>0</th>\n",
       "      <td>&lt;32</td>\n",
       "      <td>NaN</td>\n",
       "      <td>S</td>\n",
       "      <td>&lt;102</td>\n",
       "      <td>Braund, Mr. Owen Harris</td>\n",
       "      <td>0</td>\n",
       "      <td>1</td>\n",
       "      <td>3</td>\n",
       "      <td>male</td>\n",
       "      <td>1</td>\n",
       "      <td>0.0</td>\n",
       "      <td>A/5 21171</td>\n",
       "      <td>F</td>\n",
       "    </tr>\n",
       "    <tr>\n",
       "      <th>1</th>\n",
       "      <td>&lt;48</td>\n",
       "      <td>C85</td>\n",
       "      <td>C</td>\n",
       "      <td>&lt;512</td>\n",
       "      <td>Cumings, Mrs. John Bradley (Florence Briggs Th...</td>\n",
       "      <td>0</td>\n",
       "      <td>2</td>\n",
       "      <td>1</td>\n",
       "      <td>female</td>\n",
       "      <td>1</td>\n",
       "      <td>1.0</td>\n",
       "      <td>PC 17599</td>\n",
       "      <td>C</td>\n",
       "    </tr>\n",
       "    <tr>\n",
       "      <th>2</th>\n",
       "      <td>&lt;32</td>\n",
       "      <td>NaN</td>\n",
       "      <td>S</td>\n",
       "      <td>&lt;204</td>\n",
       "      <td>Heikkinen, Miss. Laina</td>\n",
       "      <td>0</td>\n",
       "      <td>3</td>\n",
       "      <td>3</td>\n",
       "      <td>female</td>\n",
       "      <td>0</td>\n",
       "      <td>1.0</td>\n",
       "      <td>STON/O2. 3101282</td>\n",
       "      <td>G</td>\n",
       "    </tr>\n",
       "    <tr>\n",
       "      <th>3</th>\n",
       "      <td>&lt;48</td>\n",
       "      <td>C123</td>\n",
       "      <td>S</td>\n",
       "      <td>&lt;512</td>\n",
       "      <td>Futrelle, Mrs. Jacques Heath (Lily May Peel)</td>\n",
       "      <td>0</td>\n",
       "      <td>4</td>\n",
       "      <td>1</td>\n",
       "      <td>female</td>\n",
       "      <td>1</td>\n",
       "      <td>1.0</td>\n",
       "      <td>113803</td>\n",
       "      <td>C</td>\n",
       "    </tr>\n",
       "    <tr>\n",
       "      <th>4</th>\n",
       "      <td>&lt;48</td>\n",
       "      <td>NaN</td>\n",
       "      <td>S</td>\n",
       "      <td>&lt;204</td>\n",
       "      <td>Allen, Mr. William Henry</td>\n",
       "      <td>0</td>\n",
       "      <td>5</td>\n",
       "      <td>3</td>\n",
       "      <td>male</td>\n",
       "      <td>0</td>\n",
       "      <td>0.0</td>\n",
       "      <td>373450</td>\n",
       "      <td>G</td>\n",
       "    </tr>\n",
       "  </tbody>\n",
       "</table>\n",
       "</div>"
      ],
      "text/plain": [
       "   Age Cabin Embarked  Fare  \\\n",
       "0  <32   NaN        S  <102   \n",
       "1  <48   C85        C  <512   \n",
       "2  <32   NaN        S  <204   \n",
       "3  <48  C123        S  <512   \n",
       "4  <48   NaN        S  <204   \n",
       "\n",
       "                                                Name  Parch  PassengerId  \\\n",
       "0                            Braund, Mr. Owen Harris      0            1   \n",
       "1  Cumings, Mrs. John Bradley (Florence Briggs Th...      0            2   \n",
       "2                             Heikkinen, Miss. Laina      0            3   \n",
       "3       Futrelle, Mrs. Jacques Heath (Lily May Peel)      0            4   \n",
       "4                           Allen, Mr. William Henry      0            5   \n",
       "\n",
       "   Pclass     Sex  SibSp  Survived            Ticket Deck  \n",
       "0       3    male      1       0.0         A/5 21171    F  \n",
       "1       1  female      1       1.0          PC 17599    C  \n",
       "2       3  female      0       1.0  STON/O2. 3101282    G  \n",
       "3       1  female      1       1.0            113803    C  \n",
       "4       3    male      0       0.0            373450    G  "
      ]
     },
     "execution_count": 38,
     "metadata": {},
     "output_type": "execute_result"
    }
   ],
   "source": [
    "##################################################################################################################################\n",
    "\n",
    "\n",
    "# revert back to letters\n",
    "deck_letters = ['A', 'B', 'C', 'D', 'E', 'F', 'G', 'T']\n",
    "df_all['Deck'] = df_all['Deck'].apply(lambda x: deck_letters[int(x - 1)])\n",
    "df_all.head()\n",
    "\n"
   ]
  },
  {
   "cell_type": "code",
   "execution_count": 39,
   "id": "frequent-syracuse",
   "metadata": {},
   "outputs": [
    {
     "data": {
      "text/plain": [
       "<AxesSubplot:xlabel='Deck'>"
      ]
     },
     "execution_count": 39,
     "metadata": {},
     "output_type": "execute_result"
    },
    {
     "data": {
      "image/png": "[encoded data removed]",
      "text/plain": [
       "<Figure size 432x288 with 1 Axes>"
      ]
     },
     "metadata": {
      "needs_background": "light"
     },
     "output_type": "display_data"
    }
   ],
   "source": [
    "#################################################################################################################################\n",
    "\n",
    "df_all.groupby('Deck')['Survived'].mean().plot(kind='bar',alpha=0.4,legend=True)\n",
    "\n"
   ]
  },
  {
   "cell_type": "code",
   "execution_count": 40,
   "id": "genuine-exception",
   "metadata": {},
   "outputs": [
    {
     "data": {
      "text/plain": [
       "F    468\n",
       "G    347\n",
       "D    159\n",
       "C    158\n",
       "E     86\n",
       "B     68\n",
       "A     22\n",
       "T      1\n",
       "Name: Deck, dtype: int64"
      ]
     },
     "execution_count": 40,
     "metadata": {},
     "output_type": "execute_result"
    }
   ],
   "source": [
    "############################################# not use\n",
    "\n",
    "#idx=df_all[df_all['Deck']=='T'].index\n",
    "#df_all.loc[idx,'Deck']='A'\n",
    "\n",
    "###JHU maybe we can category Deck based on the Survival_rate in above chart???\n",
    "\n",
    "#df_all['Deck']=df_all['Deck'].replace(['B','D','E'],'BDE')\n",
    "#df_all['Deck']=df_all['Deck'].replace(['C','F','G'],'CFG')\n",
    "#df_all['Deck']=df_all['Deck'].replace(['A','M','T'],'AMT')\n",
    "\n",
    "###JHU 0.8475336322869955 not good as 87%\n",
    "\n",
    "#\n",
    "#df_all['Deck']=df_all['Deck'].replace(['E','B','C'],'EBC')\n",
    "#df_all['Deck']=df_all['Deck'].replace(['D','A'],'DA')\n",
    "#df_all['Deck']=df_all['Deck'].replace(['F','G','T'],'FGT')\n",
    "\n",
    "df_all['Deck'].value_counts()"
   ]
  },
  {
   "cell_type": "code",
   "execution_count": 41,
   "id": "registered-infrastructure",
   "metadata": {},
   "outputs": [],
   "source": [
    "####2 data cleansing \n",
    "### 2.4 Embarked\n"
   ]
  },
  {
   "cell_type": "code",
   "execution_count": 42,
   "id": "unexpected-timothy",
   "metadata": {},
   "outputs": [
    {
     "data": {
      "text/html": [
       "<div>\n",
       "<style scoped>\n",
       "    .dataframe tbody tr th:only-of-type {\n",
       "        vertical-align: middle;\n",
       "    }\n",
       "\n",
       "    .dataframe tbody tr th {\n",
       "        vertical-align: top;\n",
       "    }\n",
       "\n",
       "    .dataframe thead th {\n",
       "        text-align: right;\n",
       "    }\n",
       "</style>\n",
       "<table border=\"1\" class=\"dataframe\">\n",
       "  <thead>\n",
       "    <tr style=\"text-align: right;\">\n",
       "      <th></th>\n",
       "      <th>Age</th>\n",
       "      <th>Cabin</th>\n",
       "      <th>Embarked</th>\n",
       "      <th>Fare</th>\n",
       "      <th>Name</th>\n",
       "      <th>Parch</th>\n",
       "      <th>PassengerId</th>\n",
       "      <th>Pclass</th>\n",
       "      <th>Sex</th>\n",
       "      <th>SibSp</th>\n",
       "      <th>Survived</th>\n",
       "      <th>Ticket</th>\n",
       "      <th>Deck</th>\n",
       "    </tr>\n",
       "  </thead>\n",
       "  <tbody>\n",
       "    <tr>\n",
       "      <th>61</th>\n",
       "      <td>&lt;48</td>\n",
       "      <td>B28</td>\n",
       "      <td>NaN</td>\n",
       "      <td>&lt;512</td>\n",
       "      <td>Icard, Miss. Amelie</td>\n",
       "      <td>0</td>\n",
       "      <td>62</td>\n",
       "      <td>1</td>\n",
       "      <td>female</td>\n",
       "      <td>0</td>\n",
       "      <td>1.0</td>\n",
       "      <td>113572</td>\n",
       "      <td>B</td>\n",
       "    </tr>\n",
       "    <tr>\n",
       "      <th>829</th>\n",
       "      <td>&lt;64</td>\n",
       "      <td>B28</td>\n",
       "      <td>NaN</td>\n",
       "      <td>&lt;512</td>\n",
       "      <td>Stone, Mrs. George Nelson (Martha Evelyn)</td>\n",
       "      <td>0</td>\n",
       "      <td>830</td>\n",
       "      <td>1</td>\n",
       "      <td>female</td>\n",
       "      <td>0</td>\n",
       "      <td>1.0</td>\n",
       "      <td>113572</td>\n",
       "      <td>B</td>\n",
       "    </tr>\n",
       "  </tbody>\n",
       "</table>\n",
       "</div>"
      ],
      "text/plain": [
       "     Age Cabin Embarked  Fare                                       Name  \\\n",
       "61   <48   B28      NaN  <512                        Icard, Miss. Amelie   \n",
       "829  <64   B28      NaN  <512  Stone, Mrs. George Nelson (Martha Evelyn)   \n",
       "\n",
       "     Parch  PassengerId  Pclass     Sex  SibSp  Survived  Ticket Deck  \n",
       "61       0           62       1  female      0       1.0  113572    B  \n",
       "829      0          830       1  female      0       1.0  113572    B  "
      ]
     },
     "execution_count": 42,
     "metadata": {},
     "output_type": "execute_result"
    }
   ],
   "source": [
    "df_all.loc[df_all['Embarked'].isnull()]"
   ]
  },
  {
   "cell_type": "code",
   "execution_count": 43,
   "id": "prostate-venue",
   "metadata": {},
   "outputs": [],
   "source": [
    "#check for passengers who were in passenger class 1, on deck abc and paid 80 or less for the tickets\n",
    "#df_all.loc[(df_all['Pclass']==1)&(df_all['Fare']<=80)&(df_all['Deck']=='ABC')]['Embarked'].value_counts()\n",
    "\n",
    "#not needed any more cause we can Google the value S"
   ]
  },
  {
   "cell_type": "code",
   "execution_count": 44,
   "id": "inappropriate-surgery",
   "metadata": {},
   "outputs": [],
   "source": [
    "###JHU data 'S' were Google checked, no relationship with above figures\n",
    "\n",
    "df_all.loc[df_all['Embarked'].isnull(),'Embarked']='S'"
   ]
  },
  {
   "cell_type": "code",
   "execution_count": 45,
   "id": "single-netscape",
   "metadata": {},
   "outputs": [],
   "source": [
    "####2 data cleansing \n",
    "### 2.5 Conclusion\n"
   ]
  },
  {
   "cell_type": "code",
   "execution_count": 46,
   "id": "dental-forwarding",
   "metadata": {},
   "outputs": [
    {
     "name": "stdout",
     "output_type": "stream",
     "text": [
      "missing_in_all_data\n"
     ]
    },
    {
     "data": {
      "text/plain": [
       "Age               0\n",
       "Cabin          1014\n",
       "Embarked          0\n",
       "Fare              0\n",
       "Name              0\n",
       "Parch             0\n",
       "PassengerId       0\n",
       "Pclass            0\n",
       "Sex               0\n",
       "SibSp             0\n",
       "Survived        418\n",
       "Ticket            0\n",
       "Deck              0\n",
       "dtype: int64"
      ]
     },
     "metadata": {},
     "output_type": "display_data"
    }
   ],
   "source": [
    "print(\"missing_in_all_data\")\n",
    "display(df_all.isnull().sum())"
   ]
  },
  {
   "cell_type": "code",
   "execution_count": 47,
   "id": "constitutional-confidentiality",
   "metadata": {},
   "outputs": [
    {
     "name": "stdout",
     "output_type": "stream",
     "text": [
      "missing_in_train_data\n"
     ]
    },
    {
     "data": {
      "text/plain": [
       "PassengerId      0\n",
       "Survived         0\n",
       "Pclass           0\n",
       "Name             0\n",
       "Sex              0\n",
       "Age            177\n",
       "SibSp            0\n",
       "Parch            0\n",
       "Ticket           0\n",
       "Fare             0\n",
       "Cabin          687\n",
       "Embarked         2\n",
       "dtype: int64"
      ]
     },
     "metadata": {},
     "output_type": "display_data"
    }
   ],
   "source": [
    "print(\"missing_in_train_data\")\n",
    "display(train_data.isnull().sum())\n",
    "\n",
    "###JHU why still keeps null Age values in train_data, since we have replaced\n",
    "###median Age value by Pclass and Sex in df_all???"
   ]
  },
  {
   "cell_type": "code",
   "execution_count": 48,
   "id": "political-writing",
   "metadata": {},
   "outputs": [],
   "source": [
    "####3 feature engineering \n",
    "### 3.1 Binning\n"
   ]
  },
  {
   "cell_type": "code",
   "execution_count": 49,
   "id": "incredible-contamination",
   "metadata": {},
   "outputs": [
    {
     "name": "stdout",
     "output_type": "stream",
     "text": [
      "<class 'pandas.core.frame.DataFrame'>\n",
      "RangeIndex: 1309 entries, 0 to 1308\n",
      "Data columns (total 13 columns):\n",
      " #   Column       Non-Null Count  Dtype   \n",
      "---  ------       --------------  -----   \n",
      " 0   Age          1309 non-null   category\n",
      " 1   Cabin        295 non-null    object  \n",
      " 2   Embarked     1309 non-null   object  \n",
      " 3   Fare         1309 non-null   category\n",
      " 4   Name         1309 non-null   object  \n",
      " 5   Parch        1309 non-null   int64   \n",
      " 6   PassengerId  1309 non-null   int64   \n",
      " 7   Pclass       1309 non-null   int64   \n",
      " 8   Sex          1309 non-null   object  \n",
      " 9   SibSp        1309 non-null   int64   \n",
      " 10  Survived     891 non-null    float64 \n",
      " 11  Ticket       1309 non-null   object  \n",
      " 12  Deck         1309 non-null   object  \n",
      "dtypes: category(2), float64(1), int64(4), object(6)\n",
      "memory usage: 115.6+ KB\n"
     ]
    }
   ],
   "source": [
    "#################################################################################################################################\n",
    "\n",
    "df_all.info()\n",
    "\n"
   ]
  },
  {
   "cell_type": "code",
   "execution_count": 50,
   "id": "presidential-duration",
   "metadata": {},
   "outputs": [
    {
     "ename": "KeyError",
     "evalue": "\"None of [Index(['Fare'], dtype='object')] are in the [columns]\"",
     "output_type": "error",
     "traceback": [
      "\u001b[0;31m---------------------------------------------------------------------------\u001b[0m",
      "\u001b[0;31mKeyError\u001b[0m                                  Traceback (most recent call last)",
      "\u001b[0;32m<ipython-input-50-b17476ac7528>\u001b[0m in \u001b[0;36m<module>\u001b[0;34m\u001b[0m\n\u001b[1;32m      3\u001b[0m \u001b[0mdf_all\u001b[0m\u001b[0;34m[\u001b[0m\u001b[0;34m'Fare'\u001b[0m\u001b[0;34m]\u001b[0m \u001b[0;34m=\u001b[0m \u001b[0mdf_all\u001b[0m\u001b[0;34m[\u001b[0m\u001b[0;34m'Fare'\u001b[0m\u001b[0;34m]\u001b[0m\u001b[0;34m.\u001b[0m\u001b[0mastype\u001b[0m\u001b[0;34m(\u001b[0m\u001b[0mstr\u001b[0m\u001b[0;34m)\u001b[0m\u001b[0;34m\u001b[0m\u001b[0;34m\u001b[0m\u001b[0m\n\u001b[1;32m      4\u001b[0m \u001b[0;34m\u001b[0m\u001b[0m\n\u001b[0;32m----> 5\u001b[0;31m \u001b[0mdf_all\u001b[0m\u001b[0;34m.\u001b[0m\u001b[0mboxplot\u001b[0m\u001b[0;34m(\u001b[0m\u001b[0mcolumn\u001b[0m\u001b[0;34m=\u001b[0m\u001b[0;34m[\u001b[0m\u001b[0;34m'Fare'\u001b[0m\u001b[0;34m]\u001b[0m\u001b[0;34m)\u001b[0m\u001b[0;31m###,figsize=(15,7))\u001b[0m\u001b[0;34m\u001b[0m\u001b[0;34m\u001b[0m\u001b[0m\n\u001b[0m",
      "\u001b[0;32m~/.local/lib/python3.8/site-packages/pandas/plotting/_core.py\u001b[0m in \u001b[0;36mboxplot_frame\u001b[0;34m(self, column, by, ax, fontsize, rot, grid, figsize, layout, return_type, backend, **kwargs)\u001b[0m\n\u001b[1;32m    492\u001b[0m ):\n\u001b[1;32m    493\u001b[0m     \u001b[0mplot_backend\u001b[0m \u001b[0;34m=\u001b[0m \u001b[0m_get_plot_backend\u001b[0m\u001b[0;34m(\u001b[0m\u001b[0mbackend\u001b[0m\u001b[0;34m)\u001b[0m\u001b[0;34m\u001b[0m\u001b[0;34m\u001b[0m\u001b[0m\n\u001b[0;32m--> 494\u001b[0;31m     return plot_backend.boxplot_frame(\n\u001b[0m\u001b[1;32m    495\u001b[0m         \u001b[0mself\u001b[0m\u001b[0;34m,\u001b[0m\u001b[0;34m\u001b[0m\u001b[0;34m\u001b[0m\u001b[0m\n\u001b[1;32m    496\u001b[0m         \u001b[0mcolumn\u001b[0m\u001b[0;34m=\u001b[0m\u001b[0mcolumn\u001b[0m\u001b[0;34m,\u001b[0m\u001b[0;34m\u001b[0m\u001b[0;34m\u001b[0m\u001b[0m\n",
      "\u001b[0;32m~/.local/lib/python3.8/site-packages/pandas/plotting/_matplotlib/boxplot.py\u001b[0m in \u001b[0;36mboxplot_frame\u001b[0;34m(self, column, by, ax, fontsize, rot, grid, figsize, layout, return_type, **kwds)\u001b[0m\n\u001b[1;32m    383\u001b[0m     \u001b[0;32mimport\u001b[0m \u001b[0mmatplotlib\u001b[0m\u001b[0;34m.\u001b[0m\u001b[0mpyplot\u001b[0m \u001b[0;32mas\u001b[0m \u001b[0mplt\u001b[0m\u001b[0;34m\u001b[0m\u001b[0;34m\u001b[0m\u001b[0m\n\u001b[1;32m    384\u001b[0m \u001b[0;34m\u001b[0m\u001b[0m\n\u001b[0;32m--> 385\u001b[0;31m     ax = boxplot(\n\u001b[0m\u001b[1;32m    386\u001b[0m         \u001b[0mself\u001b[0m\u001b[0;34m,\u001b[0m\u001b[0;34m\u001b[0m\u001b[0;34m\u001b[0m\u001b[0m\n\u001b[1;32m    387\u001b[0m         \u001b[0mcolumn\u001b[0m\u001b[0;34m=\u001b[0m\u001b[0mcolumn\u001b[0m\u001b[0;34m,\u001b[0m\u001b[0;34m\u001b[0m\u001b[0;34m\u001b[0m\u001b[0m\n",
      "\u001b[0;32m~/.local/lib/python3.8/site-packages/pandas/plotting/_matplotlib/boxplot.py\u001b[0m in \u001b[0;36mboxplot\u001b[0;34m(data, column, by, ax, fontsize, rot, grid, figsize, layout, return_type, **kwds)\u001b[0m\n\u001b[1;32m    360\u001b[0m             \u001b[0mcolumns\u001b[0m \u001b[0;34m=\u001b[0m \u001b[0mdata\u001b[0m\u001b[0;34m.\u001b[0m\u001b[0mcolumns\u001b[0m\u001b[0;34m\u001b[0m\u001b[0;34m\u001b[0m\u001b[0m\n\u001b[1;32m    361\u001b[0m         \u001b[0;32melse\u001b[0m\u001b[0;34m:\u001b[0m\u001b[0;34m\u001b[0m\u001b[0;34m\u001b[0m\u001b[0m\n\u001b[0;32m--> 362\u001b[0;31m             \u001b[0mdata\u001b[0m \u001b[0;34m=\u001b[0m \u001b[0mdata\u001b[0m\u001b[0;34m[\u001b[0m\u001b[0mcolumns\u001b[0m\u001b[0;34m]\u001b[0m\u001b[0;34m\u001b[0m\u001b[0;34m\u001b[0m\u001b[0m\n\u001b[0m\u001b[1;32m    363\u001b[0m \u001b[0;34m\u001b[0m\u001b[0m\n\u001b[1;32m    364\u001b[0m         \u001b[0mresult\u001b[0m \u001b[0;34m=\u001b[0m \u001b[0mplot_group\u001b[0m\u001b[0;34m(\u001b[0m\u001b[0mcolumns\u001b[0m\u001b[0;34m,\u001b[0m \u001b[0mdata\u001b[0m\u001b[0;34m.\u001b[0m\u001b[0mvalues\u001b[0m\u001b[0;34m.\u001b[0m\u001b[0mT\u001b[0m\u001b[0;34m,\u001b[0m \u001b[0max\u001b[0m\u001b[0;34m)\u001b[0m\u001b[0;34m\u001b[0m\u001b[0;34m\u001b[0m\u001b[0m\n",
      "\u001b[0;32m~/.local/lib/python3.8/site-packages/pandas/core/frame.py\u001b[0m in \u001b[0;36m__getitem__\u001b[0;34m(self, key)\u001b[0m\n\u001b[1;32m   3028\u001b[0m             \u001b[0;32mif\u001b[0m \u001b[0mis_iterator\u001b[0m\u001b[0;34m(\u001b[0m\u001b[0mkey\u001b[0m\u001b[0;34m)\u001b[0m\u001b[0;34m:\u001b[0m\u001b[0;34m\u001b[0m\u001b[0;34m\u001b[0m\u001b[0m\n\u001b[1;32m   3029\u001b[0m                 \u001b[0mkey\u001b[0m \u001b[0;34m=\u001b[0m \u001b[0mlist\u001b[0m\u001b[0;34m(\u001b[0m\u001b[0mkey\u001b[0m\u001b[0;34m)\u001b[0m\u001b[0;34m\u001b[0m\u001b[0;34m\u001b[0m\u001b[0m\n\u001b[0;32m-> 3030\u001b[0;31m             \u001b[0mindexer\u001b[0m \u001b[0;34m=\u001b[0m \u001b[0mself\u001b[0m\u001b[0;34m.\u001b[0m\u001b[0mloc\u001b[0m\u001b[0;34m.\u001b[0m\u001b[0m_get_listlike_indexer\u001b[0m\u001b[0;34m(\u001b[0m\u001b[0mkey\u001b[0m\u001b[0;34m,\u001b[0m \u001b[0maxis\u001b[0m\u001b[0;34m=\u001b[0m\u001b[0;36m1\u001b[0m\u001b[0;34m,\u001b[0m \u001b[0mraise_missing\u001b[0m\u001b[0;34m=\u001b[0m\u001b[0;32mTrue\u001b[0m\u001b[0;34m)\u001b[0m\u001b[0;34m[\u001b[0m\u001b[0;36m1\u001b[0m\u001b[0;34m]\u001b[0m\u001b[0;34m\u001b[0m\u001b[0;34m\u001b[0m\u001b[0m\n\u001b[0m\u001b[1;32m   3031\u001b[0m \u001b[0;34m\u001b[0m\u001b[0m\n\u001b[1;32m   3032\u001b[0m         \u001b[0;31m# take() does not accept boolean indexers\u001b[0m\u001b[0;34m\u001b[0m\u001b[0;34m\u001b[0m\u001b[0;34m\u001b[0m\u001b[0m\n",
      "\u001b[0;32m~/.local/lib/python3.8/site-packages/pandas/core/indexing.py\u001b[0m in \u001b[0;36m_get_listlike_indexer\u001b[0;34m(self, key, axis, raise_missing)\u001b[0m\n\u001b[1;32m   1263\u001b[0m             \u001b[0mkeyarr\u001b[0m\u001b[0;34m,\u001b[0m \u001b[0mindexer\u001b[0m\u001b[0;34m,\u001b[0m \u001b[0mnew_indexer\u001b[0m \u001b[0;34m=\u001b[0m \u001b[0max\u001b[0m\u001b[0;34m.\u001b[0m\u001b[0m_reindex_non_unique\u001b[0m\u001b[0;34m(\u001b[0m\u001b[0mkeyarr\u001b[0m\u001b[0;34m)\u001b[0m\u001b[0;34m\u001b[0m\u001b[0;34m\u001b[0m\u001b[0m\n\u001b[1;32m   1264\u001b[0m \u001b[0;34m\u001b[0m\u001b[0m\n\u001b[0;32m-> 1265\u001b[0;31m         \u001b[0mself\u001b[0m\u001b[0;34m.\u001b[0m\u001b[0m_validate_read_indexer\u001b[0m\u001b[0;34m(\u001b[0m\u001b[0mkeyarr\u001b[0m\u001b[0;34m,\u001b[0m \u001b[0mindexer\u001b[0m\u001b[0;34m,\u001b[0m \u001b[0maxis\u001b[0m\u001b[0;34m,\u001b[0m \u001b[0mraise_missing\u001b[0m\u001b[0;34m=\u001b[0m\u001b[0mraise_missing\u001b[0m\u001b[0;34m)\u001b[0m\u001b[0;34m\u001b[0m\u001b[0;34m\u001b[0m\u001b[0m\n\u001b[0m\u001b[1;32m   1266\u001b[0m         \u001b[0;32mreturn\u001b[0m \u001b[0mkeyarr\u001b[0m\u001b[0;34m,\u001b[0m \u001b[0mindexer\u001b[0m\u001b[0;34m\u001b[0m\u001b[0;34m\u001b[0m\u001b[0m\n\u001b[1;32m   1267\u001b[0m \u001b[0;34m\u001b[0m\u001b[0m\n",
      "\u001b[0;32m~/.local/lib/python3.8/site-packages/pandas/core/indexing.py\u001b[0m in \u001b[0;36m_validate_read_indexer\u001b[0;34m(self, key, indexer, axis, raise_missing)\u001b[0m\n\u001b[1;32m   1305\u001b[0m             \u001b[0;32mif\u001b[0m \u001b[0mmissing\u001b[0m \u001b[0;34m==\u001b[0m \u001b[0mlen\u001b[0m\u001b[0;34m(\u001b[0m\u001b[0mindexer\u001b[0m\u001b[0;34m)\u001b[0m\u001b[0;34m:\u001b[0m\u001b[0;34m\u001b[0m\u001b[0;34m\u001b[0m\u001b[0m\n\u001b[1;32m   1306\u001b[0m                 \u001b[0maxis_name\u001b[0m \u001b[0;34m=\u001b[0m \u001b[0mself\u001b[0m\u001b[0;34m.\u001b[0m\u001b[0mobj\u001b[0m\u001b[0;34m.\u001b[0m\u001b[0m_get_axis_name\u001b[0m\u001b[0;34m(\u001b[0m\u001b[0maxis\u001b[0m\u001b[0;34m)\u001b[0m\u001b[0;34m\u001b[0m\u001b[0;34m\u001b[0m\u001b[0m\n\u001b[0;32m-> 1307\u001b[0;31m                 \u001b[0;32mraise\u001b[0m \u001b[0mKeyError\u001b[0m\u001b[0;34m(\u001b[0m\u001b[0;34mf\"None of [{key}] are in the [{axis_name}]\"\u001b[0m\u001b[0;34m)\u001b[0m\u001b[0;34m\u001b[0m\u001b[0;34m\u001b[0m\u001b[0m\n\u001b[0m\u001b[1;32m   1308\u001b[0m \u001b[0;34m\u001b[0m\u001b[0m\n\u001b[1;32m   1309\u001b[0m             \u001b[0max\u001b[0m \u001b[0;34m=\u001b[0m \u001b[0mself\u001b[0m\u001b[0;34m.\u001b[0m\u001b[0mobj\u001b[0m\u001b[0;34m.\u001b[0m\u001b[0m_get_axis\u001b[0m\u001b[0;34m(\u001b[0m\u001b[0maxis\u001b[0m\u001b[0;34m)\u001b[0m\u001b[0;34m\u001b[0m\u001b[0;34m\u001b[0m\u001b[0m\n",
      "\u001b[0;31mKeyError\u001b[0m: \"None of [Index(['Fare'], dtype='object')] are in the [columns]\""
     ]
    },
    {
     "data": {
      "image/png": "[encoded data removed]",
      "text/plain": [
       "<Figure size 432x288 with 1 Axes>"
      ]
     },
     "metadata": {
      "needs_background": "light"
     },
     "output_type": "display_data"
    }
   ],
   "source": [
    "#################################################################################################################################\n",
    "\n",
    "df_all['Fare'] = df_all['Fare'].astype(str)\n",
    "\n",
    "df_all.boxplot(column=['Fare'])###,figsize=(15,7))"
   ]
  },
  {
   "cell_type": "code",
   "execution_count": null,
   "id": "prospective-albuquerque",
   "metadata": {},
   "outputs": [],
   "source": [
    "###JHU\n",
    "\n",
    "sb.histplot(data=df_all,x=\"Fare\",alpha=0.4)"
   ]
  },
  {
   "cell_type": "code",
   "execution_count": null,
   "id": "optional-daughter",
   "metadata": {},
   "outputs": [],
   "source": [
    "df_all.boxplot(column=['Age'])"
   ]
  },
  {
   "cell_type": "code",
   "execution_count": null,
   "id": "assured-cincinnati",
   "metadata": {},
   "outputs": [],
   "source": [
    "###JHU\n",
    "\n",
    "sb.histplot(data=df_all,x=\"Age\",alpha=0.4)"
   ]
  },
  {
   "cell_type": "code",
   "execution_count": null,
   "id": "dutch-corrections",
   "metadata": {},
   "outputs": [],
   "source": [
    "###Benedikt Droste\n",
    "###As you can see, there are outliers for both Age and Fare. \n",
    "###The range of values is much higher for Fare compared to Age.\n",
    "###We will cut the istribution into pieces so that the outliers do not \n",
    "###irritate our algorithm. For Fare we will assign the same number of cases \n",
    "###to each category and for Age we will build the categories based on the\n",
    "###values of the variable. This is also the difference between .cut and .qcut.\n",
    "###With .cut, the bins are formed based on the values of the variable, \n",
    "###regardless of how many cases fall into a category. With .qcut we decompose \n",
    "###a distribution so that there are the same number of cases in each category.\n",
    "\n",
    "###JHU\n",
    "###df_all['Fare']=pd.qcut(df_all['Fare'],5)#### we must run this first to get\n",
    "###the label range then use label parameter to distribute into the bins\n",
    "\n",
    "###JHU\n",
    "#############################################################################################################################################\n",
    "#df_all['Fare']=pd.qcut(df_all['Fare'],5,labels=[\"<7.8\",\"<10.5\",\"<21.5\",\"<41.5\",\"<512.3\"])\n",
    "\n",
    "###JHU\n",
    "#############################################################################################################################################\n",
    "#df_all['Age']=pd.cut(df_all['Age'],5,labels=[\"<16\",\"<32\",\"<48\",\"<64\",\"<80\"])\n",
    "\n",
    "print(\"For_Age,_each_category_has_a_different_number_of_cases:\")\n",
    "df_all['Age'].value_counts()"
   ]
  },
  {
   "cell_type": "code",
   "execution_count": null,
   "id": "dental-republican",
   "metadata": {},
   "outputs": [],
   "source": [
    "print(\"For_Fare,_each_category_has_nearly_a_same_number_of_cases:\")\n",
    "df_all['Fare'].value_counts()"
   ]
  },
  {
   "cell_type": "code",
   "execution_count": null,
   "id": "actual-chile",
   "metadata": {},
   "outputs": [],
   "source": [
    "###JHU\n",
    "df_all[['Age','Survived']].sample(5)"
   ]
  },
  {
   "cell_type": "code",
   "execution_count": null,
   "id": "crazy-edwards",
   "metadata": {},
   "outputs": [],
   "source": [
    "#\n",
    "df_all[['Age','Survived']].groupby('Age')['Survived'].mean()\n",
    "\n",
    "#\n",
    "#df_all.groupby('Age')['Survived'].mean()\n"
   ]
  },
  {
   "cell_type": "code",
   "execution_count": null,
   "id": "about-large",
   "metadata": {},
   "outputs": [],
   "source": [
    "#\n",
    "df_all[['Fare','Survived']].groupby('Fare')['Survived'].mean()\n",
    "\n",
    "#\n",
    "#df_all.groupby('Fare')['Survived'].mean()"
   ]
  },
  {
   "cell_type": "code",
   "execution_count": null,
   "id": "twelve-longer",
   "metadata": {},
   "outputs": [],
   "source": [
    "#\n",
    "df_all[['Age','Survived']].groupby('Age')['Survived'].mean().plot(kind='bar',alpha=0.4)\n",
    "pl.suptitle('Survival_rates_for_Age_categories')\n",
    "\n",
    "#\n",
    "#df_all.groupby('Age')['Survived'].mean().plot(kind='bar',alpha=0.4)\n",
    "#pl.suptitle('Survival_rates_for_Age_categories')"
   ]
  },
  {
   "cell_type": "code",
   "execution_count": null,
   "id": "cutting-marsh",
   "metadata": {},
   "outputs": [],
   "source": [
    "#\n",
    "df_all[['Fare','Survived']].groupby('Fare')['Survived'].mean().plot(kind='bar',alpha=0.4)\n",
    "pl.suptitle('Survivel_rate_for_Fare_categories')\n",
    "\n",
    "#\n",
    "#df_all.groupby('Fare')['Survived'].mean().plot(kind='bar',alpha=0.4)\n",
    "#pl.suptitle('Survivel_rate_for_Fare_categories')"
   ]
  },
  {
   "cell_type": "code",
   "execution_count": null,
   "id": "cloudy-hebrew",
   "metadata": {},
   "outputs": [],
   "source": [
    "####3.2 Creat new features out of existing variables \n",
    "#### Family Size\n",
    "\n",
    "###JHU why we do it this way, i see no logic between SibSp or Parch with \n",
    "###JHU Family_size, and Family_size will not effect the Survival_rate of \n",
    "###JHU individual"
   ]
  },
  {
   "cell_type": "code",
   "execution_count": null,
   "id": "sticky-murray",
   "metadata": {},
   "outputs": [],
   "source": [
    "#\n",
    "df_all['Family_size']=df_all['SibSp']+df_all['Parch']+1\n",
    "#\n",
    "df_all['Family_size'].plot.hist(alpha=0.4)"
   ]
  },
  {
   "cell_type": "code",
   "execution_count": null,
   "id": "honey-wholesale",
   "metadata": {},
   "outputs": [],
   "source": [
    "#\n",
    "df_all['Family_size_bin']=df_all['Family_size'].map(lambda s:1 if s==1 else(2 if s==2 else(3 if 3<=s<=4 else(4 if s>=5 else 0))))"
   ]
  },
  {
   "cell_type": "code",
   "execution_count": null,
   "id": "driving-tobago",
   "metadata": {},
   "outputs": [],
   "source": [
    "#\n",
    "df_all['Family_size_bin'].value_counts()"
   ]
  },
  {
   "cell_type": "code",
   "execution_count": null,
   "id": "instrumental-clone",
   "metadata": {},
   "outputs": [],
   "source": [
    "#\n",
    "df_all[['Family_size_bin','Survived']].groupby('Family_size_bin')['Survived'].mean().plot(kind='bar',alpha=0.4)\n",
    "\n",
    "###JHU why the auther odes not code the simplest way?\n",
    "\n",
    "#\n",
    "#df_all.groupby('Family_size_bin')['Survived'].mean().plot(kind='bar',alpha=0.4)"
   ]
  },
  {
   "cell_type": "code",
   "execution_count": null,
   "id": "demographic-company",
   "metadata": {},
   "outputs": [],
   "source": [
    "####3 Creat new features out of existing variables Tickets\n",
    "\n",
    "###JHU ?"
   ]
  },
  {
   "cell_type": "code",
   "execution_count": null,
   "id": "spare-disabled",
   "metadata": {},
   "outputs": [],
   "source": [
    "#\n",
    "df_all['Ticket_frequency']=df_all.groupby('Ticket')['Ticket'].transform('count')\n",
    "\n",
    "#df_all['Ticket_frequency']=df_all.groupby('Ticket')['Ticket'].apply('count')\n",
    "\n",
    "\n",
    "###JHU\n",
    "df_all['Ticket_frequency'].sample(5)\n",
    "\n",
    "###JHU .transform('count') and what why 'count'\n",
    "###so 1 means most ticket sold category or something??"
   ]
  },
  {
   "cell_type": "code",
   "execution_count": null,
   "id": "accessible-pulse",
   "metadata": {},
   "outputs": [],
   "source": [
    "#many code style?\n",
    "#df_all[['Ticket_frequency','Survived']].groupby('Ticket_frequency').mean()\n",
    "\n",
    "df_all.groupby('Ticket_frequency')['Survived'].mean()\n"
   ]
  },
  {
   "cell_type": "code",
   "execution_count": null,
   "id": "naked-aging",
   "metadata": {},
   "outputs": [],
   "source": [
    "#\n",
    "#df_all[['Ticket_frequency','Survived']].groupby('Ticket_frequency')['Survived'].mean().plot(kind='bar',alpha=0.4)\n",
    "\n",
    "###JHU why the auther odes not code the simplest way? \n",
    "\n",
    "df_all.groupby('Ticket_frequency')['Survived'].mean().plot(kind='bar',alpha=0.4)"
   ]
  },
  {
   "cell_type": "code",
   "execution_count": null,
   "id": "double-conspiracy",
   "metadata": {},
   "outputs": [],
   "source": [
    "####3.2 Creat new features out of existing variables \n",
    "#### Title\n"
   ]
  },
  {
   "cell_type": "code",
   "execution_count": null,
   "id": "fancy-tucson",
   "metadata": {},
   "outputs": [],
   "source": [
    "###JHU\n",
    "\n",
    "df_all.sample(5)"
   ]
  },
  {
   "cell_type": "code",
   "execution_count": null,
   "id": "maritime-society",
   "metadata": {},
   "outputs": [],
   "source": [
    "df_all['Title']=df_all['Name'].str.split(', ',expand=True)[1].str.split('.',expand=True)[0]\n",
    "df_all['Is_married']=0\n",
    "df_all['Is_married'].loc[df_all['Title']=='Mrs']=1\n",
    "\n",
    "\n",
    "###JHU is that a joke or something? it seems many codes are reduandant or just\n",
    "###JHU be there to help the reader learning to code in a proper way??\n",
    "\n",
    "df_all['Title'].nunique()"
   ]
  },
  {
   "cell_type": "code",
   "execution_count": null,
   "id": "civil-chaos",
   "metadata": {},
   "outputs": [],
   "source": [
    "###JHU\n",
    "\n",
    "df_all['Title'].unique()\n"
   ]
  },
  {
   "cell_type": "code",
   "execution_count": null,
   "id": "casual-transportation",
   "metadata": {},
   "outputs": [],
   "source": [
    "title_names=(df_all['Title'].value_counts()<10)\n",
    "\n",
    "df_all['Title']=df_all['Title'].apply(lambda x:'Mice' if title_names.loc[x]==True else x)\n",
    "\n",
    "df_all.groupby('Title')['Title'].count()"
   ]
  },
  {
   "cell_type": "code",
   "execution_count": null,
   "id": "moral-texas",
   "metadata": {},
   "outputs": [],
   "source": [
    "###JHU\n",
    "df_all[['Title','Survived']].groupby('Title')['Survived'].mean().plot(kind='bar',alpha=0.4)\n",
    "\n",
    "\n",
    "#\n",
    "#df_all.groupby('Title')['Survived'].mean().plot(kind='bar',alpha=0.4)"
   ]
  },
  {
   "cell_type": "code",
   "execution_count": null,
   "id": "expanded-resort",
   "metadata": {},
   "outputs": [],
   "source": [
    "####3 Creat new features out of existing variables \n",
    "#### Survival Rates\n"
   ]
  },
  {
   "cell_type": "code",
   "execution_count": null,
   "id": "extensive-conservation",
   "metadata": {},
   "outputs": [],
   "source": [
    "import string\n",
    "\n",
    "def extract_surname(data):\n",
    "    families=[]\n",
    "    for i in range(len(data)):\n",
    "        name=data.iloc[i]\n",
    "        if '(' in name:\n",
    "            name_no_bracket=name.split('(')[0]\n",
    "        else:\n",
    "            name_no_bracket=name\n",
    "        family=name_no_bracket.split(',')[0]\n",
    "        title=name_no_bracket.split(',')[1].strip().split(' ')[0]\n",
    "        for c in string.punctuation:\n",
    "            family=family.replace(c,'').strip()\n",
    "        families.append(family)\n",
    "    return families\n",
    "\n",
    "df_all['Family']=extract_surname(df_all['Name'])"
   ]
  },
  {
   "cell_type": "code",
   "execution_count": null,
   "id": "mediterranean-japan",
   "metadata": {},
   "outputs": [],
   "source": [
    "df_all['Family'].nunique()"
   ]
  },
  {
   "cell_type": "code",
   "execution_count": null,
   "id": "supreme-determination",
   "metadata": {},
   "outputs": [],
   "source": [
    "df_all[['Title','Survived','Family_size']].groupby('Title').mean()\n",
    "\n",
    "###JHU THINK & PRACTICE"
   ]
  },
  {
   "cell_type": "code",
   "execution_count": null,
   "id": "prerequisite-northeast",
   "metadata": {},
   "outputs": [],
   "source": [
    "print(\"Survival_rates_grouped_by_families_of_women_in_dataset:\")\n",
    "df_all.loc[(df_all['Sex']=='female')&(df_all['Family_size']>1)].groupby('Family')['Survived'].mean().plot.hist(alpha=0.4)\n",
    "\n",
    "###JHU how to read this chart, 0 to 1 on x axes and 0 to 100 on y axes???\n",
    "###JHU and whats the point doing this\n",
    "#df_all[(df_all['Sex']=='female')&(df_all['Family_size']>1)].groupby('Family')['Survived'].mean().plot.hist(alpha=0.4)\n",
    "#this code works as above df_all.loc[(df_all['Sex']=='female')]\n",
    "\n",
    "\n",
    "\n",
    "###JHU\n",
    "###df_all[['Title','Survived']].groupby('Title')['Survived'].mean().plot(kind='bar',alpha=0.4)"
   ]
  },
  {
   "cell_type": "code",
   "execution_count": null,
   "id": "impaired-gazette",
   "metadata": {},
   "outputs": [],
   "source": [
    "master_families=df_all[df_all['Title']=='Master']['Family'].tolist()\n",
    "df_all.loc[df_all['Family'].isin(master_families)].groupby('Family')['Survived'].mean().plot.hist(alpha=0.4)\n",
    "\n",
    "###JHU how to read this chart, 0 to 1 on x axes and 0 to 100 on y axes???\n"
   ]
  },
  {
   "cell_type": "code",
   "execution_count": null,
   "id": "personalized-standard",
   "metadata": {},
   "outputs": [],
   "source": [
    "#Create variables with the survival rate of the women and masters\n",
    "\n",
    "women_rate=df_all.loc[(df_all['Sex']=='female')&(df_all['Family_size']>1)].groupby('Family')['Survived'].mean()\n",
    "master_rate=df_all.loc[df_all['Family'].isin(master_families)].groupby('Family')['Survived'].mean()\n",
    "\n",
    "#Combine two series\n",
    "combined_rate=women_rate.append(master_rate)\n",
    "\n",
    "#It is posible that a woman has the family as a master and vice versa, so duplicates have to been dropped\n",
    "combined_rate_df=combined_rate.to_frame().reset_index().rename(columns={'Survived':'Survival_quota'}).drop_duplicates(subset='Family')\n",
    "\n",
    "#Merge the new dataframe\n",
    "df_all=pd.merge(df_all,combined_rate_df,how='left')"
   ]
  },
  {
   "cell_type": "code",
   "execution_count": null,
   "id": "architectural-gazette",
   "metadata": {},
   "outputs": [],
   "source": [
    "#We have calculated a survival rate for only a part of the cases, the others \n",
    "#we set to 0 in the dummy variable\n",
    "\n",
    "df_all['Survival_quota_NA']=1\n",
    "df_all.loc[df_all['Survival_quota'].isnull(),'Survival_quota_NA']=0\n",
    "df_all['Survival_quota']=df_all['Survival_quota'].fillna(0)\n"
   ]
  },
  {
   "cell_type": "code",
   "execution_count": null,
   "id": "eleven-mixer",
   "metadata": {},
   "outputs": [],
   "source": [
    "####3.3 Label and One Hot Encoding\n"
   ]
  },
  {
   "cell_type": "code",
   "execution_count": null,
   "id": "elegant-original",
   "metadata": {},
   "outputs": [],
   "source": [
    "###JHU\n",
    "from sklearn import preprocessing\n",
    "\n",
    "non_numeric_features=['Embarked','Sex','Title','Age','Fare','Deck']\n",
    "\n",
    "for feature in non_numeric_features:\n",
    "    df_all[feature]=preprocessing.LabelEncoder().fit_transform(df_all[feature])\n",
    "    \n",
    "cat_features=['Pclass','Sex','Embarked','Title','Deck','Family_size_bin','Age','Fare']\n",
    "    \n",
    "encoded_features=[]\n",
    "\n",
    "for feature in cat_features:\n",
    "    encoded_feat=preprocessing.OneHotEncoder().fit_transform(df_all[feature].values.reshape(-1,1)).toarray()\n",
    "    n=df_all[feature].nunique()\n",
    "    cols=['{}_{}'.format(feature,n) for n in range(1,n+1)]\n",
    "    encoded_df=pd.DataFrame(encoded_feat,columns=cols)\n",
    "    encoded_df.index=df_all.index\n",
    "    encoded_features.append(encoded_df)\n",
    "\n",
    "\n",
    "df_all=pd.concat([df_all,*encoded_features],axis=1)"
   ]
  },
  {
   "cell_type": "code",
   "execution_count": null,
   "id": "forbidden-quarterly",
   "metadata": {},
   "outputs": [],
   "source": [
    "df_train,df_test=divide_df(df_all)"
   ]
  },
  {
   "cell_type": "code",
   "execution_count": null,
   "id": "supported-iceland",
   "metadata": {},
   "outputs": [],
   "source": [
    "####Modeling and prediction\n"
   ]
  },
  {
   "cell_type": "code",
   "execution_count": null,
   "id": "handy-cinema",
   "metadata": {},
   "outputs": [],
   "source": [
    "#Defined columns which can be dropped for the modeling part because we \n",
    "#created new lable and one hot encoded variants out of them\n",
    "\n",
    "drop_cols=['Embarked','Family','Family_size','Survived','Family_size_bin',\n",
    "           'Deck','Age','Name','Parch','PassengerId','Pclass','Sex','SibSp',\n",
    "           'Title','Ticket','Cabin']\n",
    "\n",
    "drop_cols_2=['Embarked','Family','Family_size','Family_size_bin','Deck','Fare',\n",
    "            'Name','Parch','PassengerId','Pclass','Sex','SibSp','Title',\n",
    "             'Ticket','Cabin']\n"
   ]
  },
  {
   "cell_type": "code",
   "execution_count": null,
   "id": "accurate-white",
   "metadata": {},
   "outputs": [],
   "source": [
    "#setting up a random forest classifier\n",
    "#standardization of variables\n",
    "\n",
    "###JHU\n",
    "from sklearn.model_selection import train_test_split\n",
    "from sklearn.ensemble import RandomForestClassifier\n",
    "###JHU from sklearn.preprocessing import StandardScaler\n",
    "\n",
    "x=preprocessing.StandardScaler().fit_transform(df_train.drop(columns=drop_cols))\n",
    "y=df_train['Survived'].values\n",
    "\n",
    "x_test=preprocessing.StandardScaler().fit_transform(df_test.drop(columns=drop_cols_2))\n",
    "\n",
    "#creating train, test splits\n",
    "x_train,x_test1,y_train,y_test1=train_test_split(x,y,test_size=0.25,random_state=42)\n",
    "\n",
    "#defining model parameters\n",
    "model=RandomForestClassifier(criterion='gini',\n",
    "                                          n_estimators=1750,\n",
    "                                          max_depth=7,\n",
    "                                          min_samples_split=6,\n",
    "                                          min_samples_leaf=6,\n",
    "                                          max_features=\"auto\",\n",
    "                                          oob_score=True,\n",
    "                                          random_state=42,\n",
    "                                          n_jobs=-1,\n",
    "                                          verbose=1)\n",
    "\n",
    "model.fit(x_train,y_train)\n",
    "predictions=model.predict(x_test)\n",
    "print(model.score(x_test1,y_test1))\n",
    "output=pd.DataFrame({'PassengerId':test_data.PassengerId,'Survived':predictions})\n",
    "output['Survived']=output['Survived'].astype(int)\n",
    "output.to_csv('2020_00_09_titanic_jjj.csv',index=False)"
   ]
  },
  {
   "cell_type": "code",
   "execution_count": null,
   "id": "quantitative-barcelona",
   "metadata": {},
   "outputs": [],
   "source": []
  },
  {
   "cell_type": "code",
   "execution_count": null,
   "id": "composed-investor",
   "metadata": {},
   "outputs": [],
   "source": []
  },
  {
   "cell_type": "code",
   "execution_count": null,
   "id": "bacterial-shakespeare",
   "metadata": {},
   "outputs": [],
   "source": []
  }
 ],
 "metadata": {
  "kernelspec": {
   "display_name": "Python 3",
   "language": "python",
   "name": "python3"
  },
  "language_info": {
   "codemirror_mode": {
    "name": "ipython",
    "version": 3
   },
   "file_extension": ".py",
   "mimetype": "text/x-python",
   "name": "python",
   "nbconvert_exporter": "python",
   "pygments_lexer": "ipython3",
   "version": "3.8.5"
  }
 },
 "nbformat": 4,
 "nbformat_minor": 5
}
